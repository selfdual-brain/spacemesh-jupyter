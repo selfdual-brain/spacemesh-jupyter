{
 "cells": [
  {
   "cell_type": "markdown",
   "id": "7ca2c837-b893-47b9-9d16-e17a232afac1",
   "metadata": {},
   "source": [
    "# Analysis for PoST Parameters\n",
    "The proof consists of a single nonce and several \"good\" labels."
   ]
  },
  {
   "cell_type": "code",
   "execution_count": 1,
   "id": "9c55b3be-953c-47ff-a2d1-0ef7bf1ce4b3",
   "metadata": {},
   "outputs": [],
   "source": [
    "from IPython.display import display,Math,Markdown\n",
    "from scipy.stats import binom\n",
    "import math\n",
    "from math import log, floor, ceil, sqrt\n",
    "\n",
    "def dm(str):\n",
    "    display(Markdown(str))\n"
   ]
  },
  {
   "cell_type": "markdown",
   "id": "6c4ce00b-e7c7-4093-8e7e-819201b201f2",
   "metadata": {},
   "source": [
    "## Honest Parameters"
   ]
  },
  {
   "cell_type": "code",
   "execution_count": 115,
   "id": "06afcc71-0b3a-4206-9759-df2885e3c230",
   "metadata": {},
   "outputs": [],
   "source": [
    "## Global Parameters\n",
    "\n",
    "n = 2**34 # Total number of labels\n",
    "\n",
    "#honest_nonces = 3 # Maximum number of honest nonces\n",
    "\n",
    "honest_opt_error = 2**(-10) # Honest users should fail with at most this probability with {honest_nonces} nonces.\n",
    "honest_min_error = 2**(-20) # We also compute the number of nonces to achieve this error.\n",
    "\n",
    "### Hashing-related\n",
    "label_len = 16 # Label size in bytes (actually a label-block --- that is, the number of bytes of input for a single hash function invocation)\n",
    "nonces_per_hash = 128/34 # Number of nonces per hash invocation (example here is for 34-bit threshold and AES-128).\n",
    "\n",
    "## Node-specific parameters\n",
    "\n",
    "hash_labels_per_sec = 2**24 # Number of hash invocations per second. ; this is a \"fast\" CPU\n",
    "read_mb_per_sec = 150 # Disk read speed in MB/s ; this is a fast machine\n",
    "\n",
    "hash_labels_per_sec_slow = 2**20 # Number of hash invocations per second. ; this is a \"slow\" CPU\n",
    "read_mb_per_sec_slow = 80 # Disk read speed in MB/s ; this is a slow machine\n"
   ]
  },
  {
   "cell_type": "markdown",
   "id": "ffacc051-7f15-435d-b68b-2b0cf02752a7",
   "metadata": {},
   "source": [
    "## Adversarial Parameters\n",
    "\n",
    "We use these parameters to compute the minimal number of good labels needed."
   ]
  },
  {
   "cell_type": "code",
   "execution_count": 116,
   "id": "1e02f67a-ee6d-4204-a970-62cfe7dd1188",
   "metadata": {},
   "outputs": [],
   "source": [
    "# maximum number of adversarial nonces. Trying this number of nonces should be as expensive as initializing all of the adversary's claimed space.\n",
    "adv_nonces = 1e6\n",
    "\n",
    "# Fraction of storage that the adversary keeps\n",
    "c = 0.80 "
   ]
  },
  {
   "cell_type": "code",
   "execution_count": 117,
   "id": "58e0b6b9-b9c1-4613-b3fd-ad812f91cce8",
   "metadata": {},
   "outputs": [],
   "source": [
    "\n",
    "# Display the calculations for a proof that requires $k$ good labels out of $n$, where each label is good with probability $p$.\n",
    "def display_results(k, n, p):\n",
    "    actualq = binom.sf(k,n,p) # Actual probability of finding at least k good labels out of n (might differ from q due to rounding)\n",
    "    adv_prob = binom.sf(k, ceil(c*n), p)\n",
    "    adv_log_prob = binom.logsf(k, ceil(c*n), p)/log(2)\n",
    "\n",
    "    if actualq == 0 or actualq == 1 or log(1-actualq) == 0:\n",
    "        dm(rf\"**Warning**: actualq=${actualq:.2f}=2^{{ {log(actualq,2):.2f} }}$\")\n",
    "        \n",
    "    \n",
    "    opt_nonces = ceil(log(honest_opt_error)/log(1-actualq))\n",
    "    honest_actual_error = (1-actualq)**opt_nonces\n",
    "    \n",
    "    expected_nonces = ceil(1/actualq)\n",
    "    # expected_batches = ceil(expected_nonces / honest_nonce_batch)\n",
    "\n",
    "    max_nonces = ceil(log(honest_min_error)/log(1-actualq))\n",
    "\n",
    "    adv_success_log_prob = binom.logsf(0, adv_nonces, adv_prob)/log(2) # We use the binom.logsf function rather than directly computing because it handles the underflows more nicely.\n",
    "        \n",
    "    dm(rf\"\"\"### Proof consists of a single nonce with {k} good labels\n",
    "For honest users: $q=\\Pr[Binom(n=2^{{ {log(n,2):.2f} }}, p={p*n:.2f}/n) \\ge {k}] = {binom.sf(k,n,p):.2f} = 2^{{ {binom.logsf(k,n,p)/log(2):.2f} }}$\n",
    "  *  Expected number of nonces for honest parties is {expected_nonces} ({ceil(expected_nonces/nonces_per_hash)} hash invocations per label)\n",
    "  *  Need {opt_nonces} nonces to ensure honest failure probability of less than $2^{{ {log(honest_actual_error,2):.2f} }} \\le 2^{{ {log(honest_opt_error,2):.2f} }}$\n",
    "  *  Need {max_nonces} nonces to ensure honest failure probability of less than $2^{{ {log(honest_min_error,2):.2f} }}$\n",
    "  \n",
    "For the adversary: $\\Pr[Binom({c:.2f}\\cdot n, p={p*n:.2f}/n) \\ge {k}] = {adv_prob:.2f} = 2^{{ {adv_log_prob:.2f} }}$\n",
    "  *  Expected number of nonces for adversary is ${floor(1/adv_prob)}=2^{{ {-adv_log_prob:.2f} }}$\n",
    "  *  With $2^{{ {log(adv_nonces,2):.2f} }}$ nonce attempts, probability that adversary succeeds is less than $2^{{ {adv_success_log_prob:.2f} }}$\n",
    "\"\"\")\n",
    "    "
   ]
  },
  {
   "cell_type": "markdown",
   "id": "45e8c95c-3574-49b1-a158-ccb191354526",
   "metadata": {},
   "source": [
    "## Inverse calculations and optimizations"
   ]
  },
  {
   "cell_type": "markdown",
   "id": "2c4e98b2-48b6-4229-926f-05996db3dd6f",
   "metadata": {},
   "source": [
    "### Finding $p$ given $k$ and $q$"
   ]
  },
  {
   "cell_type": "code",
   "execution_count": 118,
   "id": "382f110f-b145-430f-b3fd-68de68b99bb5",
   "metadata": {
    "tags": []
   },
   "outputs": [
    {
     "data": {
      "text/markdown": [
       "Best solution found is $p=2^{ -23.036 } = \\frac{ 1997.30 } { n }$"
      ],
      "text/plain": [
       "<IPython.core.display.Markdown object>"
      ]
     },
     "metadata": {},
     "output_type": "display_data"
    },
    {
     "data": {
      "text/markdown": [
       "$\\Pr[Binom(n=2^{ 34.00 }, p=1997.30/n \\ge 2000] = 0.47$"
      ],
      "text/plain": [
       "<IPython.core.display.Markdown object>"
      ]
     },
     "metadata": {},
     "output_type": "display_data"
    }
   ],
   "source": [
    "from scipy import optimize\n",
    "\n",
    "k = 2000\n",
    "q = 0.47\n",
    "\n",
    "# Find the p that minimizes, for a binomially distributed variable Binom with parameters n,p, the error\n",
    "# |Pr[Binom(n,p) >= k] - q|. \n",
    "def find_p(k2: int, n1: int, q1: float):\n",
    "    \"\"\"Find p such that Pr[X \\ge k]=q when X~Binom(n,p)\"\"\"\n",
    "    def p_error(k1):\n",
    "        if k1 <= 0: \n",
    "            return math.inf\n",
    "        actualq = binom.sf(k2,n1,k1/n1)\n",
    "        if actualq == 0:\n",
    "            return 3-k1/n1\n",
    "        elif actualq == 1:\n",
    "            return 2+k1/n1\n",
    "        return (q1 - actualq)**2\n",
    "\n",
    "    bounds=(0, 3*k2)\n",
    "        \n",
    "    res = optimize.minimize_scalar(p_error,bounds=bounds, method='bounded', options={'xatol': 2**(-64), 'maxiter': 2**20})\n",
    "        \n",
    "    return res.x/n1\n",
    "\n",
    "p = find_p(k,n,q)\n",
    "\n",
    "# Finding q given p\n",
    "def find_q_given_p(k, n, p):\n",
    "    return binom.sf(k, n, p)\n",
    "\n",
    "dm(rf\"Best solution found is $p=2^{{ {log(p,2):.3f} }} = \\frac{{ {p*n:.2f} }} {{ n }}$\")\n",
    "dm(rf\"$\\Pr[Binom(n=2^{{ {log(n,2):.2f} }}, p={p*n:.2f}/n \\ge {k}] = {find_q_given_p(k,n,p):.2f}$\")"
   ]
  },
  {
   "cell_type": "markdown",
   "id": "7c30ee2a-74e6-483c-b529-d4c9e8a5a497",
   "metadata": {},
   "source": [
    "### Finding $q$\n",
    "\n",
    "We're trying to maximize the gap between the honest success probability and the adversarial success. This gap grows with the inverse of $q$, so the optimal $q$ is just bounded by the honest success probability (or, equivalently, by the expected number of nonces the honest parties must try)"
   ]
  },
  {
   "cell_type": "code",
   "execution_count": 119,
   "id": "06f1cd2f-299b-40e8-886c-c219a19d866a",
   "metadata": {
    "tags": []
   },
   "outputs": [],
   "source": [
    "# Find q that guarantees honest users will succeed with honest_nonces except with probability honest_opt_error\n",
    "def find_q(honest_opt_error, honest_nonces):\n",
    "    return 1-(honest_opt_error)**(1/honest_nonces)\n"
   ]
  },
  {
   "cell_type": "markdown",
   "id": "df024c19-36ee-4b26-98ac-a5be7f32eaa8",
   "metadata": {},
   "source": [
    "### Optimizing Honest Nonces\n",
    "Here, we're trying to find the maximum number of nonces that allow honest users on \"fast\" computers to read at I/O speed."
   ]
  },
  {
   "cell_type": "code",
   "execution_count": 120,
   "id": "0578b7e5-3b19-4683-ad5e-2996822bacff",
   "metadata": {},
   "outputs": [
    {
     "data": {
      "text/markdown": [
       "\n",
       "* Break-even nonces for fast nodes: 6.43 (1.7066666666666668 hash invocations)\n",
       "* $q=0.90$ for 6 nonces to succeed except with probability $0.001 = 2^{ -10.00 }$\n"
      ],
      "text/plain": [
       "<IPython.core.display.Markdown object>"
      ]
     },
     "metadata": {},
     "output_type": "display_data"
    }
   ],
   "source": [
    "\n",
    "\n",
    "# number of parallel nonces to equalize read time and hashing time (not necessarily an integer)\n",
    "def break_even_nonces(hash_labels_per_sec, read_labels_per_sec):\n",
    "    return hash_labels_per_sec / read_labels_per_sec * nonces_per_hash\n",
    "\n",
    "\n",
    "read_labels_per_sec_fast = read_mb_per_sec * 2**20 / label_len\n",
    "break_even_fast_nonces = break_even_nonces(hash_labels_per_sec, read_labels_per_sec_fast)\n",
    "\n",
    "q = find_q(2**(-20), floor(break_even_fast_nonces))\n",
    "\n",
    "dm(rf\"\"\"\n",
    "* Break-even nonces for fast nodes: {break_even_fast_nonces:.2f} ({break_even_fast_nonces/nonces_per_hash} hash invocations)\n",
    "* $q={q:.2f}$ for {floor(break_even_fast_nonces)} nonces to succeed except with probability ${honest_opt_error:.3f} = 2^{{ {log(honest_opt_error,2):.2f} }}$\n",
    "\"\"\")\n"
   ]
  },
  {
   "cell_type": "markdown",
   "id": "fbd0a346-56fe-4137-9712-7a3642f71b81",
   "metadata": {},
   "source": [
    "### Optimizing Parallel Nonces for Slower Nodes"
   ]
  },
  {
   "cell_type": "code",
   "execution_count": 121,
   "id": "f8a54929-f7e4-433c-a86c-fc40436a54d3",
   "metadata": {},
   "outputs": [
    {
     "data": {
      "text/markdown": [
       "#### Optimized execution for $q=0.90$, $2^{ 24.00 }$ hashes/sec, $150.00$ MB/sec read rate\n",
       "* Optimal number of parallel nonces: 7\n",
       "  - 2 hash invocations\n",
       "  - will take 1.000000 passes in expectation\n",
       "  - Expected total time per label is 1.19e-07 seconds.\n",
       "  - Expected total time for $2^{ 34.00 }$ labels is $34.13$ minutes.\n",
       "\n"
      ],
      "text/plain": [
       "<IPython.core.display.Markdown object>"
      ]
     },
     "metadata": {},
     "output_type": "display_data"
    },
    {
     "data": {
      "text/markdown": [
       "#### Optimized execution for $q=0.90$, $2^{ 20.00 }$ hashes/sec, $80.00$ MB/sec read rate\n",
       "* Optimal number of parallel nonces: 2\n",
       "  - 1 hash invocations\n",
       "  - will take 1.009941 passes in expectation\n",
       "  - Expected total time per label is 9.63e-07 seconds.\n",
       "  - Expected total time for $2^{ 34.00 }$ labels is $275.78$ minutes.\n",
       "\n"
      ],
      "text/plain": [
       "<IPython.core.display.Markdown object>"
      ]
     },
     "metadata": {},
     "output_type": "display_data"
    }
   ],
   "source": [
    "\n",
    "# Actual labels-per-second for a given number of parallel nonces (this is either dominated by hash speed or by read speed)\n",
    "def labels_per_sec(hash_labels_per_sec, read_labels_per_sec, parallel_nonces):\n",
    "    hashes_per_label = ceil(parallel_nonces/nonces_per_hash) # Have to perform an integer number of hashes\n",
    "    return min(hash_labels_per_sec / hashes_per_label, read_labels_per_sec)\n",
    "\n",
    "def expected_total_passes(parallel_nonces, q):\n",
    "    q1 = 1-(1-q)**parallel_nonces # Probability of success in a single pass.\n",
    "    return 1/q1\n",
    "\n",
    "# Number of passes that succeed with probability `percentile`\n",
    "def percentile_total_passes(parallel_nonces, q, percentile):\n",
    "    q1 = 1-(1-q)**parallel_nonces # Probability of success in a single pass.\n",
    "    return log(1-percentile)/log(1-q1)\n",
    "\n",
    "def expected_total_time_per_label(hash_labels_per_sec, read_labels_per_sec, parallel_nonces, q):\n",
    "    return expected_total_passes(parallel_nonces, q) / labels_per_sec(hash_labels_per_sec, read_labels_per_sec, parallel_nonces)\n",
    "\n",
    "def find_parallel_nonces(hash_labels_per_sec, read_labels_per_sec, q):\n",
    "    def exp_time(parallel_nonces):\n",
    "        return expected_total_time_per_label(hash_labels_per_sec, read_labels_per_sec, ceil(parallel_nonces), q)\n",
    "    \n",
    "    break_even = break_even_nonces(hash_labels_per_sec, read_labels_per_sec)\n",
    "    res = optimize.minimize_scalar(exp_time, bounds=(0, 2*ceil(break_even)), method='bounded', options={'xatol': 0.5, 'maxiter': 2000})\n",
    "    return ceil(res.x)\n",
    "\n",
    "def display_optimized_nonces(hash_labels_per_sec, read_labels_per_sec, q, n):\n",
    "    parallel_nonces = find_parallel_nonces(hash_labels_per_sec, read_labels_per_sec, q)\n",
    "    mb_per_sec = read_labels_per_sec * label_len / 2**20\n",
    "    expected_time_per_label = expected_total_time_per_label(hash_labels_per_sec, read_labels_per_sec, parallel_nonces,q)\n",
    "    \n",
    "    dm(rf\"\"\"#### Optimized execution for $q={q:.2f}$, $2^{{ {log(hash_labels_per_sec,2):.2f} }}$ hashes/sec, ${mb_per_sec:.2f}$ MB/sec read rate\n",
    "* Optimal number of parallel nonces: {parallel_nonces}\n",
    "  - {ceil(parallel_nonces/nonces_per_hash)} hash invocations\n",
    "  - will take {expected_total_passes(parallel_nonces,q):.6f} passes in expectation\n",
    "  - Expected total time per label is {expected_time_per_label:.2e} seconds.\n",
    "  - Expected total time for $2^{{ {log(n,2):.2f} }}$ labels is ${expected_time_per_label*n / 60:.2f}$ minutes.\n",
    "\n",
    "\"\"\")\n",
    "\n",
    "display_optimized_nonces(hash_labels_per_sec, read_labels_per_sec_fast, q, n)\n",
    "\n",
    "read_labels_per_sec_slow = read_mb_per_sec_slow * 2**20 / label_len\n",
    "display_optimized_nonces(hash_labels_per_sec_slow, read_labels_per_sec_slow, q, n)"
   ]
  },
  {
   "cell_type": "markdown",
   "id": "82a99fbd-bb44-4a0f-adc4-85840d9a1b3e",
   "metadata": {},
   "source": [
    "### Optimizing $k$ given $q$"
   ]
  },
  {
   "cell_type": "code",
   "execution_count": 122,
   "id": "c406ce41-1efa-4511-848a-df9c0e843505",
   "metadata": {},
   "outputs": [
    {
     "name": "stderr",
     "output_type": "stream",
     "text": [
      "/home/local/src/jupyter/lib/python3.10/site-packages/scipy/optimize/_optimize.py:2133: RuntimeWarning: invalid value encountered in double_scalars\n",
      "  p = (xf - fulc) * q - (xf - nfc) * r\n",
      "/home/local/src/jupyter/lib/python3.10/site-packages/scipy/optimize/_optimize.py:2134: RuntimeWarning: invalid value encountered in double_scalars\n",
      "  q = 2.0 * (q - r)\n"
     ]
    },
    {
     "data": {
      "text/markdown": [
       "### Proof consists of a single nonce with 764 good labels\n",
       "For honest users: $q=\\Pr[Binom(n=2^{ 34.00 }, p=800.78/n) \\ge 764] = 0.90 = 2^{ -0.15 }$\n",
       "  *  Expected number of nonces for honest parties is 2 (1 hash invocations per label)\n",
       "  *  Need 4 nonces to ensure honest failure probability of less than $2^{ -13.33 } \\le 2^{ -10.00 }$\n",
       "  *  Need 7 nonces to ensure honest failure probability of less than $2^{ -20.00 }$\n",
       "  \n",
       "For the adversary: $\\Pr[Binom(0.80\\cdot n, p=800.78/n) \\ge 764] = 0.00 = 2^{ -19.94 }$\n",
       "  *  Expected number of nonces for adversary is $1004592=2^{ 19.94 }$\n",
       "  *  With $2^{ 19.93 }$ nonce attempts, probability that adversary succeeds is less than $2^{ -0.67 }$\n"
      ],
      "text/plain": [
       "<IPython.core.display.Markdown object>"
      ]
     },
     "metadata": {},
     "output_type": "display_data"
    }
   ],
   "source": [
    "# Find the smallest k that requires the adversary to search through min_adv_nonces in expectation to find a solution.\n",
    "\n",
    "def find_k(q: float, n1: int, c1: float, min_log_adv_nonces: int):\n",
    "    def k_error(k):\n",
    "        k = ceil(k)\n",
    "        p = find_p(k, n1, q)\n",
    "        \n",
    "        adv_log_prob = binom.logsf(k, ceil(c1*n1), p)/log(2)\n",
    "        expected_log_nonces = -adv_log_prob\n",
    "        \n",
    "        if expected_log_nonces < min_log_adv_nonces:\n",
    "            return math.inf\n",
    "        else:\n",
    "            return k\n",
    "    \n",
    "    res = optimize.minimize_scalar(k_error, bounds=(16, 1000), method='bounded', options={'xatol': 0.5, 'maxiter': 2000})\n",
    "    return res.x\n",
    "\n",
    "\n",
    "# Use q computed above\n",
    "k = find_k(q, n,c,log(adv_nonces,2))\n",
    "k = ceil(k)\n",
    "p = find_p(k,n,q)\n",
    "\n",
    "\n",
    "display_results(k,n,p)\n"
   ]
  },
  {
   "cell_type": "markdown",
   "id": "ec41b8bc-77c7-4207-98c6-7455278a116f",
   "metadata": {},
   "source": [
    "## Optimizing $q$ given $k$\n",
    "\n",
    "Here, we want to fix $k$ and find the largest value of $q$ for which the adversary still requires `min_adv_nonces` in expectation."
   ]
  },
  {
   "cell_type": "code",
   "execution_count": 123,
   "id": "c943cf29-fd4e-40b3-8669-890fa3def330",
   "metadata": {},
   "outputs": [
    {
     "data": {
      "text/markdown": [
       "### Proof consists of a single nonce with 100 good labels\n",
       "For honest users: $q=\\Pr[Binom(n=2^{ 34.00 }, p=75.25/n) \\ge 100] = 0.00 = 2^{ -8.55 }$\n",
       "  *  Expected number of nonces for honest parties is 375 (100 hash invocations per label)\n",
       "  *  Need 2591 nonces to ensure honest failure probability of less than $2^{ -10.00 } \\le 2^{ -10.00 }$\n",
       "  *  Need 5181 nonces to ensure honest failure probability of less than $2^{ -20.00 }$\n",
       "  \n",
       "For the adversary: $\\Pr[Binom(0.80\\cdot n, p=75.25/n) \\ge 100] = 0.00 = 2^{ -19.93 }$\n",
       "  *  Expected number of nonces for adversary is $1000000=2^{ 19.93 }$\n",
       "  *  With $2^{ 19.93 }$ nonce attempts, probability that adversary succeeds is less than $2^{ -0.66 }$\n"
      ],
      "text/plain": [
       "<IPython.core.display.Markdown object>"
      ]
     },
     "metadata": {},
     "output_type": "display_data"
    },
    {
     "data": {
      "text/markdown": [
       "#### Optimized execution for $q=0.00$, $2^{ 24.00 }$ hashes/sec, $150.00$ MB/sec read rate\n",
       "* Optimal number of parallel nonces: 7\n",
       "  - 2 hash invocations\n",
       "  - will take 53.885248 passes in expectation\n",
       "  - Expected total time per label is 6.42e-06 seconds.\n",
       "  - Expected total time for $2^{ 34.00 }$ labels is $1839.28$ minutes.\n",
       "\n"
      ],
      "text/plain": [
       "<IPython.core.display.Markdown object>"
      ]
     },
     "metadata": {},
     "output_type": "display_data"
    },
    {
     "data": {
      "text/markdown": [
       "#### Optimized execution for $q=0.00$, $2^{ 20.00 }$ hashes/sec, $80.00$ MB/sec read rate\n",
       "* Optimal number of parallel nonces: 2\n",
       "  - 1 hash invocations\n",
       "  - will take 187.343350 passes in expectation\n",
       "  - Expected total time per label is 1.79e-04 seconds.\n",
       "  - Expected total time for $2^{ 34.00 }$ labels is $51157.22$ minutes.\n",
       "\n"
      ],
      "text/plain": [
       "<IPython.core.display.Markdown object>"
      ]
     },
     "metadata": {},
     "output_type": "display_data"
    }
   ],
   "source": [
    "def find_p_given_k(k: int, n1: int, c1: float, min_log_adv_nonces: int):\n",
    "    def p_error(k1):\n",
    "        p = k1/n1\n",
    "        \n",
    "        if p == 0:\n",
    "            return math.inf\n",
    "        \n",
    "        adv_log_prob = binom.logsf(k, ceil(c1*n1), p)/log(2)\n",
    "        expected_log_nonces = -adv_log_prob\n",
    "        \n",
    "        if expected_log_nonces < min_log_adv_nonces:\n",
    "            return k1\n",
    "        else:\n",
    "            return -k1\n",
    "    \n",
    "    res = optimize.minimize_scalar(p_error, bounds=(0, 5*k), method='bounded', options={'xatol': 2**(-64), 'maxiter': 2**20})\n",
    "    if not res.success:\n",
    "        dm(\"**Warning**: `find_p_given_k` optimization unsuccessful!\")\n",
    "    return res.x / n\n",
    "\n",
    "\n",
    "k=100\n",
    "p = find_p_given_k(k, n, c, log(adv_nonces,2))\n",
    "q = find_q_given_p(k, n, p)\n",
    "\n",
    "display_results(k,n,p)\n",
    "display_optimized_nonces(hash_labels_per_sec, read_labels_per_sec_fast, q, n)\n",
    "display_optimized_nonces(hash_labels_per_sec_slow, read_labels_per_sec_slow, q, n)"
   ]
  },
  {
   "cell_type": "markdown",
   "id": "9f98d12f-a933-4907-918c-e0b281b1397c",
   "metadata": {},
   "source": [
    "# Nice graphs"
   ]
  },
  {
   "cell_type": "code",
   "execution_count": 124,
   "id": "f26ef990-d1d4-48bd-a325-42fbe6fe3a41",
   "metadata": {},
   "outputs": [],
   "source": [
    "import numpy as np\n",
    "import matplotlib.pyplot as plt"
   ]
  },
  {
   "cell_type": "code",
   "execution_count": 128,
   "id": "3028cba7-35de-4429-82e7-d5aa00a594c3",
   "metadata": {},
   "outputs": [
    {
     "data": {
      "image/png": "[encoded data removed]",
      "text/plain": [
       "<Figure size 640x480 with 1 Axes>"
      ]
     },
     "metadata": {},
     "output_type": "display_data"
    }
   ],
   "source": [
    "def time_per_pass(hash_labels_per_sec, read_labels_per_sec, q):\n",
    "    parallel_nonces = find_parallel_nonces(hash_labels_per_sec, read_labels_per_sec, q)\n",
    "    mb_per_sec = read_labels_per_sec * label_len / 2**20\n",
    "    expected_time_per_label = expected_total_time_per_label(hash_labels_per_sec, read_labels_per_sec, parallel_nonces,q)\n",
    "    time_per_pass = expected_time_per_label * n / 60\n",
    "    return time_per_pass\n",
    "\n",
    "def percentile_time_per_pass(hash_labels_per_sec, read_labels_per_sec, q, percentile):\n",
    "    parallel_nonces = find_parallel_nonces(hash_labels_per_sec, read_labels_per_sec, q)\n",
    "    mb_per_sec = read_labels_per_sec * label_len / 2**20\n",
    "    passes = percentile_total_passes(parallel_nonces, q, percentile)\n",
    "    percentile_time_per_label =  passes / labels_per_sec(hash_labels_per_sec, read_labels_per_sec, parallel_nonces)\n",
    "    time_per_pass = percentile_time_per_label * n / 60\n",
    "    return time_per_pass\n",
    "\n",
    "\n",
    "\n",
    "k_arr = np.arange(500, 700, 10)\n",
    "p_vals = { k: find_p_given_k(k, n, c, log(adv_nonces,2)) for k in k_arr }\n",
    "q_vals = { k: find_q_given_p(k, n, p_vals[k]) for k in k_arr }\n",
    "\n",
    "\n",
    "\n",
    "plt.plot(k_arr, [time_per_pass(hash_labels_per_sec,read_labels_per_sec_fast, q_vals[k]) for k in k_arr], 'g-', label=\"Fast machine (expected)\")\n",
    "plt.plot(k_arr, [percentile_time_per_pass(hash_labels_per_sec,read_labels_per_sec_fast, q_vals[k],0.99) for k in k_arr], 'g--', label=\"Fast machine ($99^{th}$ percentile)\")\n",
    "plt.plot(k_arr, [time_per_pass(hash_labels_per_sec_slow,read_labels_per_sec_slow, q_vals[k]) for k in k_arr], 'b-', label=\"Slow machine (expected)\")\n",
    "plt.plot(k_arr, [percentile_time_per_pass(hash_labels_per_sec_slow,read_labels_per_sec_slow, q_vals[k],0.99) for k in k_arr], 'b--', label=\"Slow machine ($99^{th}$ percentile)\")\n",
    "\n",
    "plt.title(rf\"Proof times with expected adversarial nonces=${adv_nonces:.2e}=2^{{ {log(adv_nonces,2):.2f} }}$\")\n",
    "plt.xlabel('k2')\n",
    "plt.ylabel('proof time in minutes')\n",
    "plt.legend(loc=\"upper right\")\n",
    "\n",
    "plt.show()"
   ]
  }
 ],
 "metadata": {
  "kernelspec": {
   "display_name": "Python 3 (ipykernel)",
   "language": "python",
   "name": "python3"
  },
  "language_info": {
   "codemirror_mode": {
    "name": "ipython",
    "version": 3
   },
   "file_extension": ".py",
   "mimetype": "text/x-python",
   "name": "python",
   "nbconvert_exporter": "python",
   "pygments_lexer": "ipython3",
   "version": "3.10.6"
  }
 },
 "nbformat": 4,
 "nbformat_minor": 5
}
