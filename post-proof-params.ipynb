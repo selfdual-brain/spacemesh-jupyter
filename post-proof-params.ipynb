{
 "cells": [
  {
   "cell_type": "markdown",
   "id": "7ca2c837-b893-47b9-9d16-e17a232afac1",
   "metadata": {},
   "source": [
    "# Analysis for PoST Parameters\n",
    "The proof consists of a single nonce and several \"good\" labels."
   ]
  },
  {
   "cell_type": "code",
   "execution_count": 106,
   "id": "9c55b3be-953c-47ff-a2d1-0ef7bf1ce4b3",
   "metadata": {},
   "outputs": [],
   "source": [
    "from IPython.display import display,Math,Markdown\n",
    "from scipy.stats import binom\n",
    "import math\n",
    "from math import log, floor, ceil, sqrt\n",
    "\n",
    "def dm(str):\n",
    "    display(Markdown(str))\n"
   ]
  },
  {
   "cell_type": "markdown",
   "id": "6c4ce00b-e7c7-4093-8e7e-819201b201f2",
   "metadata": {},
   "source": [
    "## Honest Parameters"
   ]
  },
  {
   "cell_type": "code",
   "execution_count": 196,
   "id": "06afcc71-0b3a-4206-9759-df2885e3c230",
   "metadata": {},
   "outputs": [],
   "source": [
    "n = 2**34 # Total number of labels\n",
    "\n",
    "honest_nonces = 6 # Maximum number of honest nonces\n",
    "\n",
    "honest_opt_error = 2**(-10) # Honest users should fail with at most this probability with {honest_nonces} nonces.\n",
    "honest_min_error = 2**(-20) # We also compute the number of nonces to achieve this error."
   ]
  },
  {
   "cell_type": "markdown",
   "id": "ffacc051-7f15-435d-b68b-2b0cf02752a7",
   "metadata": {},
   "source": [
    "## Adversarial Parameters\n",
    "\n",
    "We use these parameters to compute the minimal number of good labels needed."
   ]
  },
  {
   "cell_type": "code",
   "execution_count": 197,
   "id": "1e02f67a-ee6d-4204-a970-62cfe7dd1188",
   "metadata": {},
   "outputs": [],
   "source": [
    "# maximum number of adversarial nonces. Trying this number of nonces should be as expensive as initializing all of the adversary's claimed space.\n",
    "adv_nonces = 2**40\n",
    "\n",
    "# Fraction of storage that the adversary keeps\n",
    "c = 0.75 "
   ]
  },
  {
   "cell_type": "code",
   "execution_count": 198,
   "id": "58e0b6b9-b9c1-4613-b3fd-ad812f91cce8",
   "metadata": {},
   "outputs": [],
   "source": [
    "\n",
    "# Display the calculations for a proof that requires $k$ good labels out of $n$, where each label is good with probability $p$.\n",
    "def display_results(k, n, p):\n",
    "    actualq = binom.sf(k,n,p) # Actual probability of finding at least k good labels out of n (might differ from q due to rounding)\n",
    "    adv_prob = binom.sf(k, ceil(c*n), p)\n",
    "    adv_log_prob = binom.logsf(k, ceil(c*n), p)/log(2)\n",
    "\n",
    "    if actualq == 0 or actualq == 1 or log(1-actualq) == 0:\n",
    "        dm(rf\"**Error**: actualq=${actualq:.2f}=2^{{ {log(actualq,2):.2f} }}$\")\n",
    "        return\n",
    "    \n",
    "    opt_nonces = ceil(log(honest_opt_error)/log(1-actualq))\n",
    "    honest_actual_error = (1-actualq)**opt_nonces\n",
    "\n",
    "    max_nonces = ceil(log(honest_min_error)/log(1-actualq))\n",
    "\n",
    "    adv_success_log_prob = binom.logsf(0, adv_nonces, adv_prob)/log(2) # We use the binom.logsf function rather than directly computing because it handles the underflows more nicely.\n",
    "\n",
    "    \n",
    "    dm(rf\"### Proof consists of a single nonce with {k} good labels\")\n",
    "    dm(rf\"For honest users: $q=\\Pr[Binom(n=2^{{ {log(n,2):.2f} }}, p={p*n:.2f}/n) \\ge {k}] = {binom.sf(k,n,p):.2f}$\")\n",
    "    dm(rf\"  *  Need {opt_nonces} nonces to ensure honest failure probability of less than $2^{{ {log(honest_actual_error,2):.2f} }} \\le 2^{{ {log(honest_opt_error,2):.2f} }}$\")\n",
    "    dm(rf\"  *  Need {max_nonces} nonces to ensure honest failure probability of less than $2^{{ {log(honest_min_error,2):.2f} }}$\")\n",
    "    dm(rf\"For the adversary: $\\Pr[Binom({c:.2f}\\cdot n, p={p*n:.2f}/n) \\ge {k}] = {adv_prob:.2f} = 2^{{ {adv_log_prob:.2f} }}$\")\n",
    "    dm(rf\"  *  Expected number of nonces for adversary is ${floor(1/adv_prob)}=2^{{ {-adv_log_prob:.2f} }}$\")\n",
    "    dm(rf\"  *  With 2^{{ {log(adv_nonces,2):.2f} }} nonce attempts, probability that adversary succeeds is less than $2^{{ {adv_success_log_prob:.2f} }}$\")\n"
   ]
  },
  {
   "cell_type": "markdown",
   "id": "45e8c95c-3574-49b1-a158-ccb191354526",
   "metadata": {},
   "source": [
    "## Inverse calculations and optimizations"
   ]
  },
  {
   "cell_type": "markdown",
   "id": "2c4e98b2-48b6-4229-926f-05996db3dd6f",
   "metadata": {},
   "source": [
    "### Finding $p$ given $k$ and $q$"
   ]
  },
  {
   "cell_type": "code",
   "execution_count": 199,
   "id": "382f110f-b145-430f-b3fd-68de68b99bb5",
   "metadata": {
    "tags": []
   },
   "outputs": [
    {
     "data": {
      "text/markdown": [
       "Best solution found is $p=2^{ -24.755 } = \\frac{ 606.56 } { n }$"
      ],
      "text/plain": [
       "<IPython.core.display.Markdown object>"
      ]
     },
     "metadata": {},
     "output_type": "display_data"
    },
    {
     "data": {
      "text/markdown": [
       "$\\Pr[Binom(n=2^{ 34.00 }, p=606.56/n \\ge 600] = 0.59$"
      ],
      "text/plain": [
       "<IPython.core.display.Markdown object>"
      ]
     },
     "metadata": {},
     "output_type": "display_data"
    }
   ],
   "source": [
    "from scipy import optimize\n",
    "\n",
    "k = 600\n",
    "q = 0.59\n",
    "\n",
    "# Find the p that minimizes, for a binomially distributed variable Binom with parameters n,p, the error\n",
    "# |Pr[Binom(n,p) >= k] - q|. \n",
    "def find_p(k1: int, n1: int, q1: float):\n",
    "    \"\"\"Find p such that Pr[X \\ge k]=q when X~Binom(n,p)\"\"\"\n",
    "    def p_error(p):\n",
    "        if p <= 0 or p >= 1:\n",
    "            return math.inf\n",
    "        actualq = binom.sf(k1,n1,p)\n",
    "        if actualq == 0:\n",
    "            return 3-p\n",
    "        elif actualq == 1:\n",
    "            return 2+p\n",
    "        return (q1 - actualq)**2\n",
    "\n",
    "    if q1 == 0.5:\n",
    "        return k1/n1\n",
    "    elif q1 < 0.5:\n",
    "        bounds=(0,k1/n1)\n",
    "    else:\n",
    "        bounds=(k1/n1, 2*k1/n1)\n",
    "        \n",
    "    res = optimize.minimize_scalar(p_error,bounds=bounds, method='bounded', options={'xatol': 2**(-32), 'maxiter': 2**20})\n",
    "        \n",
    "    return res.x\n",
    "\n",
    "p = find_p(k,n,q)\n",
    "\n",
    "\n",
    "dm(rf\"Best solution found is $p=2^{{ {log(p,2):.3f} }} = \\frac{{ {p*n:.2f} }} {{ n }}$\")\n",
    "dm(rf\"$\\Pr[Binom(n=2^{{ {log(n,2):.2f} }}, p={p*n:.2f}/n \\ge {k}] = {binom.sf(k,n,p):.2f}$\")"
   ]
  },
  {
   "cell_type": "markdown",
   "id": "7c30ee2a-74e6-483c-b529-d4c9e8a5a497",
   "metadata": {},
   "source": [
    "### Optimizing $q$ given $k$\n",
    "\n",
    "We're trying to maximize the gap between the honest success probability and the adversarial success."
   ]
  },
  {
   "cell_type": "code",
   "execution_count": 200,
   "id": "f8a54929-f7e4-433c-a86c-fc40436a54d3",
   "metadata": {},
   "outputs": [
    {
     "data": {
      "text/markdown": [
       "Best solution found is $q\\approx 0.69=2^{ -0.540 }, p=2^{ -24.741 } = \\frac{ 612.77 } { n }$"
      ],
      "text/plain": [
       "<IPython.core.display.Markdown object>"
      ]
     },
     "metadata": {},
     "output_type": "display_data"
    }
   ],
   "source": [
    "def find_q(k1: int, n1: int, c1: float):\n",
    "    def q_error(q):\n",
    "        if q <= 0 or q >= 1:\n",
    "            return math.inf\n",
    "        p = find_p(k1, n1, q)\n",
    "        \n",
    "        opt_nonces = log(honest_opt_error)/log(1-q)\n",
    "        if opt_nonces > honest_nonces:\n",
    "            return math.inf\n",
    "\n",
    "        adv_logprob = binom.logsf(k1, ceil(c1*n1), p)\n",
    "        honest_logprob = binom.logsf(k1, n1, p)\n",
    "        \n",
    "        if adv_logprob >= honest_logprob:\n",
    "            return math.inf\n",
    "        \n",
    "        return adv_logprob-honest_logprob\n",
    "    \n",
    "    res = optimize.minimize_scalar(q_error,bounds=(0,1), method='bounded', options={'xatol': 2**(-32), 'maxiter': 2**20})\n",
    "    return res.x\n",
    "\n",
    "\n",
    "\n",
    "k = 600\n",
    "q = find_q(k,n,c)\n",
    "p = find_p(k,n,q)\n",
    "\n",
    "\n",
    "dm(rf\"Best solution found is $q\\approx {q:.2f}=2^{{ {log(q,2):.3f} }}, p=2^{{ {log(p,2):.3f} }} = \\frac{{ {p*n:.2f} }} {{ n }}$\")"
   ]
  },
  {
   "cell_type": "markdown",
   "id": "82a99fbd-bb44-4a0f-adc4-85840d9a1b3e",
   "metadata": {},
   "source": [
    "### Optimizing $k$"
   ]
  },
  {
   "cell_type": "code",
   "execution_count": 201,
   "id": "c406ce41-1efa-4511-848a-df9c0e843505",
   "metadata": {},
   "outputs": [
    {
     "data": {
      "text/markdown": [
       "### Proof consists of a single nonce with 747 good labels"
      ],
      "text/plain": [
       "<IPython.core.display.Markdown object>"
      ]
     },
     "metadata": {},
     "output_type": "display_data"
    },
    {
     "data": {
      "text/markdown": [
       "For honest users: $q=\\Pr[Binom(n=2^{ 34.00 }, p=761.31/n) \\ge 747] = 0.69$"
      ],
      "text/plain": [
       "<IPython.core.display.Markdown object>"
      ]
     },
     "metadata": {},
     "output_type": "display_data"
    },
    {
     "data": {
      "text/markdown": [
       "  *  Need 6 nonces to ensure honest failure probability of less than $2^{ -10.14 } \\le 2^{ -10.00 }$"
      ],
      "text/plain": [
       "<IPython.core.display.Markdown object>"
      ]
     },
     "metadata": {},
     "output_type": "display_data"
    },
    {
     "data": {
      "text/markdown": [
       "  *  Need 12 nonces to ensure honest failure probability of less than $2^{ -20.00 }$"
      ],
      "text/plain": [
       "<IPython.core.display.Markdown object>"
      ]
     },
     "metadata": {},
     "output_type": "display_data"
    },
    {
     "data": {
      "text/markdown": [
       "For the adverary: $\\Pr[Binom(0.75\\cdot n, p=761.31/n) \\ge 747] = 0.00 = 2^{ -40.08 }$"
      ],
      "text/plain": [
       "<IPython.core.display.Markdown object>"
      ]
     },
     "metadata": {},
     "output_type": "display_data"
    },
    {
     "data": {
      "text/markdown": [
       "  *  Expected number of nonces for adversary is $1160887398864=2^{ 40.08 }$"
      ],
      "text/plain": [
       "<IPython.core.display.Markdown object>"
      ]
     },
     "metadata": {},
     "output_type": "display_data"
    },
    {
     "data": {
      "text/markdown": [
       "  *  With 2^{ 40.00 } nonce attempts, probability that adversary succeeds is less than $2^{ -0.71 }$"
      ],
      "text/plain": [
       "<IPython.core.display.Markdown object>"
      ]
     },
     "metadata": {},
     "output_type": "display_data"
    }
   ],
   "source": [
    "# Find the smallest k that requires the adversary to search through min_adv_nonces in expectation to find a solution.\n",
    "\n",
    "def find_k(n1: int, c1: float, min_log_adv_nonces: int):\n",
    "    def k_error(k):\n",
    "        k = ceil(k)\n",
    "        q = find_q(k, n1, c1)\n",
    "        p = find_p(k, n1, q)\n",
    "        \n",
    "        adv_log_prob = binom.logsf(k, ceil(c*n1), p)/log(2)\n",
    "        expected_log_nonces = -adv_log_prob\n",
    "        \n",
    "        if expected_log_nonces < min_log_adv_nonces:\n",
    "            return math.inf\n",
    "        else:\n",
    "            return k\n",
    "    \n",
    "    res = optimize.minimize_scalar(k_error, bounds=(16, 1000), method='bounded', options={'xatol': 0.5, 'maxiter': 2000})\n",
    "    return res.x\n",
    "\n",
    "\n",
    "k = find_k(n,c,log(adv_nonces,2))\n",
    "k = ceil(k)\n",
    "q = find_q(k,n,c)\n",
    "p = find_p(k,n,q)\n",
    "\n",
    "display_results(k,n,p)"
   ]
  },
  {
   "cell_type": "markdown",
   "id": "f30dd8f4-a263-4fb1-863c-e00c67b61224",
   "metadata": {},
   "source": [
    "## Other values of $k$"
   ]
  },
  {
   "cell_type": "code",
   "execution_count": 202,
   "id": "42782f92-1c73-4cb2-9b9a-54d9d6d27c08",
   "metadata": {},
   "outputs": [
    {
     "data": {
      "text/markdown": [
       "### Proof consists of a single nonce with 300 good labels"
      ],
      "text/plain": [
       "<IPython.core.display.Markdown object>"
      ]
     },
     "metadata": {},
     "output_type": "display_data"
    },
    {
     "data": {
      "text/markdown": [
       "For honest users: $q=\\Pr[Binom(n=2^{ 34.00 }, p=309.00/n) \\ge 300] = 0.68$"
      ],
      "text/plain": [
       "<IPython.core.display.Markdown object>"
      ]
     },
     "metadata": {},
     "output_type": "display_data"
    },
    {
     "data": {
      "text/markdown": [
       "  *  Need 7 nonces to ensure honest failure probability of less than $2^{ -11.60 } \\le 2^{ -10.00 }$"
      ],
      "text/plain": [
       "<IPython.core.display.Markdown object>"
      ]
     },
     "metadata": {},
     "output_type": "display_data"
    },
    {
     "data": {
      "text/markdown": [
       "  *  Need 13 nonces to ensure honest failure probability of less than $2^{ -20.00 }$"
      ],
      "text/plain": [
       "<IPython.core.display.Markdown object>"
      ]
     },
     "metadata": {},
     "output_type": "display_data"
    },
    {
     "data": {
      "text/markdown": [
       "For the adverary: $\\Pr[Binom(0.75\\cdot n, p=309.00/n) \\ge 300] = 0.00 = 2^{ -17.01 }$"
      ],
      "text/plain": [
       "<IPython.core.display.Markdown object>"
      ]
     },
     "metadata": {},
     "output_type": "display_data"
    },
    {
     "data": {
      "text/markdown": [
       "  *  Expected number of nonces for adversary is $132374=2^{ 17.01 }$"
      ],
      "text/plain": [
       "<IPython.core.display.Markdown object>"
      ]
     },
     "metadata": {},
     "output_type": "display_data"
    },
    {
     "data": {
      "text/markdown": [
       "  *  With 2^{ 40.00 } nonce attempts, probability that adversary succeeds is less than $2^{ 0.00 }$"
      ],
      "text/plain": [
       "<IPython.core.display.Markdown object>"
      ]
     },
     "metadata": {},
     "output_type": "display_data"
    },
    {
     "data": {
      "text/markdown": [
       "### Proof consists of a single nonce with 400 good labels"
      ],
      "text/plain": [
       "<IPython.core.display.Markdown object>"
      ]
     },
     "metadata": {},
     "output_type": "display_data"
    },
    {
     "data": {
      "text/markdown": [
       "For honest users: $q=\\Pr[Binom(n=2^{ 34.00 }, p=410.12/n) \\ge 400] = 0.68$"
      ],
      "text/plain": [
       "<IPython.core.display.Markdown object>"
      ]
     },
     "metadata": {},
     "output_type": "display_data"
    },
    {
     "data": {
      "text/markdown": [
       "  *  Need 7 nonces to ensure honest failure probability of less than $2^{ -11.52 } \\le 2^{ -10.00 }$"
      ],
      "text/plain": [
       "<IPython.core.display.Markdown object>"
      ]
     },
     "metadata": {},
     "output_type": "display_data"
    },
    {
     "data": {
      "text/markdown": [
       "  *  Need 13 nonces to ensure honest failure probability of less than $2^{ -20.00 }$"
      ],
      "text/plain": [
       "<IPython.core.display.Markdown object>"
      ]
     },
     "metadata": {},
     "output_type": "display_data"
    },
    {
     "data": {
      "text/markdown": [
       "For the adverary: $\\Pr[Binom(0.75\\cdot n, p=410.12/n) \\ge 400] = 0.00 = 2^{ -22.25 }$"
      ],
      "text/plain": [
       "<IPython.core.display.Markdown object>"
      ]
     },
     "metadata": {},
     "output_type": "display_data"
    },
    {
     "data": {
      "text/markdown": [
       "  *  Expected number of nonces for adversary is $4990307=2^{ 22.25 }$"
      ],
      "text/plain": [
       "<IPython.core.display.Markdown object>"
      ]
     },
     "metadata": {},
     "output_type": "display_data"
    },
    {
     "data": {
      "text/markdown": [
       "  *  With 2^{ 40.00 } nonce attempts, probability that adversary succeeds is less than $2^{ 0.00 }$"
      ],
      "text/plain": [
       "<IPython.core.display.Markdown object>"
      ]
     },
     "metadata": {},
     "output_type": "display_data"
    },
    {
     "data": {
      "text/markdown": [
       "### Proof consists of a single nonce with 500 good labels"
      ],
      "text/plain": [
       "<IPython.core.display.Markdown object>"
      ]
     },
     "metadata": {},
     "output_type": "display_data"
    },
    {
     "data": {
      "text/markdown": [
       "For honest users: $q=\\Pr[Binom(n=2^{ 34.00 }, p=511.98/n) \\ge 500] = 0.69$"
      ],
      "text/plain": [
       "<IPython.core.display.Markdown object>"
      ]
     },
     "metadata": {},
     "output_type": "display_data"
    },
    {
     "data": {
      "text/markdown": [
       "  *  Need 6 nonces to ensure honest failure probability of less than $2^{ -10.20 } \\le 2^{ -10.00 }$"
      ],
      "text/plain": [
       "<IPython.core.display.Markdown object>"
      ]
     },
     "metadata": {},
     "output_type": "display_data"
    },
    {
     "data": {
      "text/markdown": [
       "  *  Need 12 nonces to ensure honest failure probability of less than $2^{ -20.00 }$"
      ],
      "text/plain": [
       "<IPython.core.display.Markdown object>"
      ]
     },
     "metadata": {},
     "output_type": "display_data"
    },
    {
     "data": {
      "text/markdown": [
       "For the adverary: $\\Pr[Binom(0.75\\cdot n, p=511.98/n) \\ge 500] = 0.00 = 2^{ -27.20 }$"
      ],
      "text/plain": [
       "<IPython.core.display.Markdown object>"
      ]
     },
     "metadata": {},
     "output_type": "display_data"
    },
    {
     "data": {
      "text/markdown": [
       "  *  Expected number of nonces for adversary is $153983826=2^{ 27.20 }$"
      ],
      "text/plain": [
       "<IPython.core.display.Markdown object>"
      ]
     },
     "metadata": {},
     "output_type": "display_data"
    },
    {
     "data": {
      "text/markdown": [
       "  *  With 2^{ 40.00 } nonce attempts, probability that adversary succeeds is less than $2^{ 0.00 }$"
      ],
      "text/plain": [
       "<IPython.core.display.Markdown object>"
      ]
     },
     "metadata": {},
     "output_type": "display_data"
    },
    {
     "data": {
      "text/markdown": [
       "### Proof consists of a single nonce with 600 good labels"
      ],
      "text/plain": [
       "<IPython.core.display.Markdown object>"
      ]
     },
     "metadata": {},
     "output_type": "display_data"
    },
    {
     "data": {
      "text/markdown": [
       "For honest users: $q=\\Pr[Binom(n=2^{ 34.00 }, p=612.77/n) \\ge 600] = 0.69$"
      ],
      "text/plain": [
       "<IPython.core.display.Markdown object>"
      ]
     },
     "metadata": {},
     "output_type": "display_data"
    },
    {
     "data": {
      "text/markdown": [
       "  *  Need 6 nonces to ensure honest failure probability of less than $2^{ -10.09 } \\le 2^{ -10.00 }$"
      ],
      "text/plain": [
       "<IPython.core.display.Markdown object>"
      ]
     },
     "metadata": {},
     "output_type": "display_data"
    },
    {
     "data": {
      "text/markdown": [
       "  *  Need 12 nonces to ensure honest failure probability of less than $2^{ -20.00 }$"
      ],
      "text/plain": [
       "<IPython.core.display.Markdown object>"
      ]
     },
     "metadata": {},
     "output_type": "display_data"
    },
    {
     "data": {
      "text/markdown": [
       "For the adverary: $\\Pr[Binom(0.75\\cdot n, p=612.77/n) \\ge 600] = 0.00 = 2^{ -32.48 }$"
      ],
      "text/plain": [
       "<IPython.core.display.Markdown object>"
      ]
     },
     "metadata": {},
     "output_type": "display_data"
    },
    {
     "data": {
      "text/markdown": [
       "  *  Expected number of nonces for adversary is $5975713903=2^{ 32.48 }$"
      ],
      "text/plain": [
       "<IPython.core.display.Markdown object>"
      ]
     },
     "metadata": {},
     "output_type": "display_data"
    },
    {
     "data": {
      "text/markdown": [
       "  *  With 2^{ 40.00 } nonce attempts, probability that adversary succeeds is less than $2^{ 0.00 }$"
      ],
      "text/plain": [
       "<IPython.core.display.Markdown object>"
      ]
     },
     "metadata": {},
     "output_type": "display_data"
    },
    {
     "data": {
      "text/markdown": [
       "### Proof consists of a single nonce with 700 good labels"
      ],
      "text/plain": [
       "<IPython.core.display.Markdown object>"
      ]
     },
     "metadata": {},
     "output_type": "display_data"
    },
    {
     "data": {
      "text/markdown": [
       "For honest users: $q=\\Pr[Binom(n=2^{ 34.00 }, p=714.90/n) \\ge 700] = 0.70$"
      ],
      "text/plain": [
       "<IPython.core.display.Markdown object>"
      ]
     },
     "metadata": {},
     "output_type": "display_data"
    },
    {
     "data": {
      "text/markdown": [
       "  *  Need 6 nonces to ensure honest failure probability of less than $2^{ -10.52 } \\le 2^{ -10.00 }$"
      ],
      "text/plain": [
       "<IPython.core.display.Markdown object>"
      ]
     },
     "metadata": {},
     "output_type": "display_data"
    },
    {
     "data": {
      "text/markdown": [
       "  *  Need 12 nonces to ensure honest failure probability of less than $2^{ -20.00 }$"
      ],
      "text/plain": [
       "<IPython.core.display.Markdown object>"
      ]
     },
     "metadata": {},
     "output_type": "display_data"
    },
    {
     "data": {
      "text/markdown": [
       "For the adverary: $\\Pr[Binom(0.75\\cdot n, p=714.90/n) \\ge 700] = 0.00 = 2^{ -37.28 }$"
      ],
      "text/plain": [
       "<IPython.core.display.Markdown object>"
      ]
     },
     "metadata": {},
     "output_type": "display_data"
    },
    {
     "data": {
      "text/markdown": [
       "  *  Expected number of nonces for adversary is $167206463197=2^{ 37.28 }$"
      ],
      "text/plain": [
       "<IPython.core.display.Markdown object>"
      ]
     },
     "metadata": {},
     "output_type": "display_data"
    },
    {
     "data": {
      "text/markdown": [
       "  *  With 2^{ 40.00 } nonce attempts, probability that adversary succeeds is less than $2^{ -0.00 }$"
      ],
      "text/plain": [
       "<IPython.core.display.Markdown object>"
      ]
     },
     "metadata": {},
     "output_type": "display_data"
    }
   ],
   "source": [
    "for k in [300, 400, 500, 600, 700]:\n",
    "    q = find_q(k,n,c)\n",
    "    p = find_p(k,n,q)\n",
    "    \n",
    "    display_results(k,n,p)"
   ]
  },
  {
   "cell_type": "code",
   "execution_count": null,
   "id": "eeb09b35-972f-4069-9761-fc42a21764fd",
   "metadata": {},
   "outputs": [],
   "source": []
  }
 ],
 "metadata": {
  "kernelspec": {
   "display_name": "Python 3 (ipykernel)",
   "language": "python",
   "name": "python3"
  },
  "language_info": {
   "codemirror_mode": {
    "name": "ipython",
    "version": 3
   },
   "file_extension": ".py",
   "mimetype": "text/x-python",
   "name": "python",
   "nbconvert_exporter": "python",
   "pygments_lexer": "ipython3",
   "version": "3.10.6"
  }
 },
 "nbformat": 4,
 "nbformat_minor": 5
}
