{
 "cells": [
  {
   "cell_type": "markdown",
   "id": "7ca2c837-b893-47b9-9d16-e17a232afac1",
   "metadata": {},
   "source": [
    "# Analysis for PoST Parameters\n",
    "The proof consists of a single nonce and several \"good\" labels."
   ]
  },
  {
   "cell_type": "code",
   "execution_count": 1,
   "id": "9c55b3be-953c-47ff-a2d1-0ef7bf1ce4b3",
   "metadata": {},
   "outputs": [],
   "source": [
    "from IPython.display import display,Math,Markdown\n",
    "from scipy.stats import binom\n",
    "import math\n",
    "from math import log, floor, ceil, sqrt\n",
    "\n",
    "def dm(str):\n",
    "    display(Markdown(str))\n"
   ]
  },
  {
   "cell_type": "markdown",
   "id": "6c4ce00b-e7c7-4093-8e7e-819201b201f2",
   "metadata": {},
   "source": [
    "## Honest Parameters"
   ]
  },
  {
   "cell_type": "code",
   "execution_count": 2,
   "id": "06afcc71-0b3a-4206-9759-df2885e3c230",
   "metadata": {},
   "outputs": [],
   "source": [
    "## Global Parameters\n",
    "\n",
    "n = 2**35 # Total number of labels for one space unit\n",
    "\n",
    "honest_opt_error = 2**(-10) # Honest users should fail with at most this probability with {honest_nonces} nonces.\n",
    "honest_min_error = 2**(-20) # We also compute the number of nonces to achieve this error.\n",
    "\n",
    "### Hashing-related\n",
    "label_len = 8 # Label size in bytes (actually a label-block --- that is, the number of bytes of input for a single hash function invocation)\n",
    "#nonces_per_hash = 128/log(n,2) # Number of nonces per hash invocation (example here is for 34-bit threshold and AES-128).\n",
    "nonce_output_len = ceil(log(n,2)/8)*8\n",
    "nonces_per_hash = 128 / nonce_output_len # Ensure output is aligned on byte boundaries\n",
    "#nonces_per_hash = 2\n",
    "\n",
    "## Node-specific parameters\n",
    "\n",
    "hash_labels_per_sec = 2**27 # Number of hash invocations per second. ; this is a \"fast\" CPU\n",
    "read_mb_per_sec = 200 # Disk read speed in MB/s ; this is a fast machine\n",
    "scrypt_per_sec = 2**13\n",
    "\n",
    "hash_labels_per_sec_slow = 2**26 # Number of hash invocations per second. ; this is a \"slow\" CPU\n",
    "read_mb_per_sec_slow = 150 # Disk read speed in MB/s ; this is a slow machine\n",
    "scrypt_per_sec_slow = 2**11.843\n",
    "\n",
    "\n",
    "# Maximum expected time for \"slow\" machines to spend doing rate-limiting PoW (in seconds). [We don't currently use this value]\n",
    "max_honest_rate_limiting_pow_overhead = 240\n"
   ]
  },
  {
   "cell_type": "markdown",
   "id": "ffacc051-7f15-435d-b68b-2b0cf02752a7",
   "metadata": {},
   "source": [
    "## Adversarial Parameters\n",
    "\n",
    "We use these parameters to compute the minimal number of good labels needed."
   ]
  },
  {
   "cell_type": "code",
   "execution_count": 3,
   "id": "259bcb80-b4a7-4b6f-9065-c7c31c7e63a2",
   "metadata": {},
   "outputs": [],
   "source": [
    "# Minimal fraction of data that the adversary stores\n",
    "#c = 0.80 \n",
    "c = 0.75 \n",
    "\n",
    "# Multiplicative advantage for adversary in solving rate-limiting PoW vs CPU-solving honest party\n",
    "adv_pow_advantage = 1000 # If fastest adversary solves PoW in 1 second, then honest user on CPU takes `adv_pow_advantage` seconds.\n",
    "\n",
    "adv_init_time = 60*60*24 # Adversarial initialization time (for a single space unit) in seconds\n",
    "\n",
    "# maximum number of adversarial nonces. Trying this number of nonces should be as expensive as initializing the unstored part of the adversary's claimed space.\n",
    "adv_nonces = 8e6\n"
   ]
  },
  {
   "cell_type": "code",
   "execution_count": 4,
   "id": "58e0b6b9-b9c1-4613-b3fd-ad812f91cce8",
   "metadata": {},
   "outputs": [],
   "source": [
    "\n",
    "# Display the calculations for a proof that requires $k$ good labels out of $n$, where each label is good with probability $p$.\n",
    "def display_results(k, n, p):\n",
    "    actualq = binom.sf(k,n,p) # Actual probability of finding at least k good labels out of n (might differ from q due to rounding)\n",
    "    adv_prob = binom.sf(k, ceil(c*n), p)\n",
    "    adv_log_prob = binom.logsf(k, ceil(c*n), p)/log(2)\n",
    "\n",
    "    if actualq == 0 or actualq == 1 or log(1-actualq) == 0:\n",
    "        dm(rf\"**Warning**: actualq=${actualq:.2f}=2^{{ {log(actualq,2):.2f} }}$\")\n",
    "        \n",
    "    \n",
    "    opt_nonces = ceil(log(honest_opt_error)/log(1-actualq))\n",
    "    honest_actual_error = (1-actualq)**opt_nonces\n",
    "    \n",
    "    expected_nonces = ceil(1/actualq)\n",
    "    # expected_batches = ceil(expected_nonces / honest_nonce_batch)\n",
    "\n",
    "    max_nonces = ceil(log(honest_min_error)/log(1-actualq))\n",
    "\n",
    "    adv_success_log_prob = binom.logsf(0, adv_nonces, adv_prob)/log(2) # We use the binom.logsf function rather than directly computing because it handles the underflows more nicely.\n",
    "        \n",
    "    dm(rf\"\"\"### Proof consists of a single nonce with {k} good labels\n",
    "\n",
    "* Proof size is ${k *ceil(log(n,256))}$ bytes. \n",
    "* Verification cost is ${k}$ scrypt evaluations.\n",
    "    \n",
    "For honest users: $q=\\Pr[Binom(n=2^{{ {log(n,2):.2f} }}, p={p*n:.2f}/n) \\ge {k}] = {binom.sf(k,n,p):.2f} = 2^{{ {binom.logsf(k,n,p)/log(2):.2f} }}$\n",
    "  *  Expected number of nonces for honest parties is {expected_nonces} ({ceil(expected_nonces/nonces_per_hash)} hash invocations per label)\n",
    "  *  Need {opt_nonces} nonces to ensure honest failure probability of less than $2^{{ {log(honest_actual_error,2):.2f} }} \\le 2^{{ {log(honest_opt_error,2):.2f} }}$\n",
    "  *  Need {max_nonces} nonces to ensure honest failure probability of less than $2^{{ {log(honest_min_error,2):.2f} }}$\n",
    "  \n",
    "For the adversary: $\\Pr[Binom({c:.2f}\\cdot n, p={p*n:.2f}/n) \\ge {k}] = {adv_prob:.2f} = 2^{{ {adv_log_prob:.2f} }}$\n",
    "  *  Expected number of nonces for adversary is ${floor(1/adv_prob)}=2^{{ {-adv_log_prob:.2f} }}$\n",
    "  *  With $2^{{ {log(adv_nonces,2):.2f} }}$ nonce attempts, probability that adversary succeeds is less than $2^{{ {adv_success_log_prob:.2f} }}$\n",
    "\"\"\")\n",
    "    "
   ]
  },
  {
   "cell_type": "markdown",
   "id": "45e8c95c-3574-49b1-a158-ccb191354526",
   "metadata": {},
   "source": [
    "## Inverse calculations and optimizations"
   ]
  },
  {
   "cell_type": "markdown",
   "id": "2c4e98b2-48b6-4229-926f-05996db3dd6f",
   "metadata": {},
   "source": [
    "### Finding $p$ given $k$ and $q$"
   ]
  },
  {
   "cell_type": "code",
   "execution_count": 5,
   "id": "382f110f-b145-430f-b3fd-68de68b99bb5",
   "metadata": {
    "tags": []
   },
   "outputs": [
    {
     "data": {
      "text/markdown": [
       "Best solution found is $p=2^{ -24.036 } = \\frac{ 1997.30 } { n }$"
      ],
      "text/plain": [
       "<IPython.core.display.Markdown object>"
      ]
     },
     "metadata": {},
     "output_type": "display_data"
    },
    {
     "data": {
      "text/markdown": [
       "$\\Pr[Binom(n=2^{ 35.00 }, p=1997.30/n \\ge 2000] = 0.47$"
      ],
      "text/plain": [
       "<IPython.core.display.Markdown object>"
      ]
     },
     "metadata": {},
     "output_type": "display_data"
    }
   ],
   "source": [
    "from scipy import optimize\n",
    "\n",
    "k = 2000\n",
    "q = 0.47\n",
    "\n",
    "# Find the p that minimizes, for a binomially distributed variable Binom with parameters n,p, the error\n",
    "# |Pr[Binom(n,p) >= k] - q|. \n",
    "def find_p(k2: int, n1: int, q1: float):\n",
    "    \"\"\"Find p such that Pr[X \\ge k]=q when X~Binom(n,p)\"\"\"\n",
    "    def p_error(k1):\n",
    "        if k1 <= 0: \n",
    "            return math.inf\n",
    "        actualq = binom.sf(k2,n1,k1/n1)\n",
    "        if actualq == 0 or q > 2**(-20) and actualq < 2**(-40):\n",
    "            return 3-k1/n1\n",
    "        elif actualq == 1 or q < (1-2**(-20)) and actualq > (1-2**(-40)):\n",
    "            return 2+k1/n1\n",
    "        return (q1 - actualq)**2\n",
    "\n",
    "    bounds=(0, 3*k2)\n",
    "        \n",
    "    res = optimize.minimize_scalar(p_error,bounds=bounds, method='bounded', options={'xatol': 2**(-64), 'maxiter': 2**20})\n",
    "        \n",
    "    return res.x/n1\n",
    "\n",
    "p = find_p(k,n,q)\n",
    "\n",
    "# Finding q given p\n",
    "def find_q_given_p(k, n, p):\n",
    "    return binom.sf(k, n, p)\n",
    "\n",
    "dm(rf\"Best solution found is $p=2^{{ {log(p,2):.3f} }} = \\frac{{ {p*n:.2f} }} {{ n }}$\")\n",
    "dm(rf\"$\\Pr[Binom(n=2^{{ {log(n,2):.2f} }}, p={p*n:.2f}/n \\ge {k}] = {find_q_given_p(k,n,p):.2f}$\")"
   ]
  },
  {
   "cell_type": "markdown",
   "id": "7c30ee2a-74e6-483c-b529-d4c9e8a5a497",
   "metadata": {},
   "source": [
    "### Finding $q$\n",
    "\n",
    "We're trying to maximize the gap between the honest success probability and the adversarial success. This gap grows with the inverse of $q$, so the optimal $q$ is just bounded by the honest success probability (or, equivalently, by the expected number of nonces the honest parties must try)"
   ]
  },
  {
   "cell_type": "code",
   "execution_count": 6,
   "id": "06f1cd2f-299b-40e8-886c-c219a19d866a",
   "metadata": {
    "tags": []
   },
   "outputs": [],
   "source": [
    "# Find q that guarantees honest users will succeed with honest_nonces except with probability honest_opt_error\n",
    "def find_q(honest_opt_error, honest_nonces):\n",
    "    return 1-(honest_opt_error)**(1/honest_nonces)\n",
    "\n",
    "def find_q_from_expected_nonces(expected_honest_nonces):\n",
    "    return 1/expected_honest_nonces"
   ]
  },
  {
   "cell_type": "markdown",
   "id": "df024c19-36ee-4b26-98ac-a5be7f32eaa8",
   "metadata": {},
   "source": [
    "### Optimizing Honest Nonces\n",
    "Here, we're trying to find the maximum number of nonces that allow honest users on \"fast\" computers to read at I/O speed."
   ]
  },
  {
   "cell_type": "code",
   "execution_count": 7,
   "id": "0578b7e5-3b19-4683-ad5e-2996822bacff",
   "metadata": {},
   "outputs": [
    {
     "data": {
      "text/markdown": [
       "\n",
       "* Break-even nonces for fast nodes: 16.38 (5.12 hash invocations)\n",
       "* $q=0.58$ for 16 nonces to succeed except with probability $0.001 = 2^{ -10.00 }$\n"
      ],
      "text/plain": [
       "<IPython.core.display.Markdown object>"
      ]
     },
     "metadata": {},
     "output_type": "display_data"
    }
   ],
   "source": [
    "\n",
    "# Number of nonces that succeed with probability `percentile`\n",
    "def percentile_honest_nonces(q, percentile):\n",
    "    if q == 1:\n",
    "        return 1\n",
    "    return ceil(log(1-percentile)/log(1-q))\n",
    "\n",
    "# number of parallel nonces to equalize read time and hashing time (not necessarily an integer)\n",
    "def break_even_nonces(hash_labels_per_sec, read_labels_per_sec):\n",
    "    return hash_labels_per_sec / read_labels_per_sec * nonces_per_hash\n",
    "\n",
    "\n",
    "read_labels_per_sec_fast = read_mb_per_sec * 2**20 / label_len\n",
    "break_even_fast_nonces = break_even_nonces(hash_labels_per_sec, read_labels_per_sec_fast)\n",
    "\n",
    "q = find_q(2**(-20), floor(break_even_fast_nonces))\n",
    "\n",
    "dm(rf\"\"\"\n",
    "* Break-even nonces for fast nodes: {break_even_fast_nonces:.2f} ({break_even_fast_nonces/nonces_per_hash} hash invocations)\n",
    "* $q={q:.2f}$ for {floor(break_even_fast_nonces)} nonces to succeed except with probability ${honest_opt_error:.3f} = 2^{{ {log(honest_opt_error,2):.2f} }}$\n",
    "\"\"\")\n"
   ]
  },
  {
   "cell_type": "markdown",
   "id": "fbd0a346-56fe-4137-9712-7a3642f71b81",
   "metadata": {},
   "source": [
    "### Optimizing Parallel Nonces for Slower Nodes"
   ]
  },
  {
   "cell_type": "code",
   "execution_count": 8,
   "id": "f8a54929-f7e4-433c-a86c-fc40436a54d3",
   "metadata": {},
   "outputs": [
    {
     "data": {
      "text/markdown": [
       "#### Optimized execution for $q=0.11$, $2^{ 27.00 }$ hashes/sec, $200.00$ MB/sec read rate\n",
       "* Optimal number of parallel nonces: 16\n",
       "  - 5 hash invocations\n",
       "  - will take 1.179107 passes in expectation\n",
       "  - Expected total time per label is 4.50e-08 seconds.\n",
       "      - 99${}^{th}$-percentile time per label is 1.14e-07 seconds\n",
       "  - Expected total time for $2^{ 35.00 }$ labels is $25.76$ minutes.\n",
       "      - 99${}^{th}$-percentile total time is 65.54 minutes\n"
      ],
      "text/plain": [
       "<IPython.core.display.Markdown object>"
      ]
     },
     "metadata": {},
     "output_type": "display_data"
    },
    {
     "data": {
      "text/markdown": [
       "#### Optimized execution for $q=0.11$, $2^{ 26.00 }$ hashes/sec, $150.00$ MB/sec read rate\n",
       "* Optimal number of parallel nonces: 9\n",
       "  - 3 hash invocations\n",
       "  - will take 1.530080 passes in expectation\n",
       "  - Expected total time per label is 7.78e-08 seconds.\n",
       "      - 99${}^{th}$-percentile time per label is 2.54e-07 seconds\n",
       "  - Expected total time for $2^{ 35.00 }$ labels is $44.57$ minutes.\n",
       "      - 99${}^{th}$-percentile total time is 145.64 minutes\n"
      ],
      "text/plain": [
       "<IPython.core.display.Markdown object>"
      ]
     },
     "metadata": {},
     "output_type": "display_data"
    }
   ],
   "source": [
    "\n",
    "# Actual labels-per-second for a given number of parallel nonces (this is either dominated by hash speed or by read speed)\n",
    "def labels_per_sec(hash_labels_per_sec, read_labels_per_sec, parallel_nonces):\n",
    "    hashes_per_label = ceil(parallel_nonces/nonces_per_hash) # Have to perform an integer number of hashes\n",
    "    return min(hash_labels_per_sec / hashes_per_label, read_labels_per_sec)\n",
    "\n",
    "def expected_total_passes(parallel_nonces, q):\n",
    "    q1 = 1-(1-q)**parallel_nonces # Probability of success in a single pass.\n",
    "    return 1/q1\n",
    "\n",
    "# Number of passes that succeed with probability `percentile`\n",
    "def percentile_total_passes(parallel_nonces, q, percentile):\n",
    "    q1 = 1-(1-q)**parallel_nonces # Probability of success in a single pass.\n",
    "    if q1 == 1:\n",
    "        return 1\n",
    "    return ceil(log(1-percentile)/log(1-q1))\n",
    "\n",
    "def expected_total_time_per_label(hash_labels_per_sec, read_labels_per_sec, parallel_nonces, q):\n",
    "    return expected_total_passes(parallel_nonces, q) / labels_per_sec(hash_labels_per_sec, read_labels_per_sec, parallel_nonces)\n",
    "\n",
    "\n",
    "def percentile_total_time_per_label(hash_labels_per_sec, read_labels_per_sec, parallel_nonces, q, percentile):\n",
    "    return percentile_total_passes(parallel_nonces, q, percentile) / labels_per_sec(hash_labels_per_sec, read_labels_per_sec, parallel_nonces)\n",
    "\n",
    "\n",
    "def find_parallel_nonces(hash_labels_per_sec, read_labels_per_sec, q):\n",
    "    def exp_time(parallel_nonces):\n",
    "        return expected_total_time_per_label(hash_labels_per_sec, read_labels_per_sec, parallel_nonces, q)\n",
    "    \n",
    "    break_even = break_even_nonces(hash_labels_per_sec, read_labels_per_sec)\n",
    "    res = optimize.minimize_scalar(exp_time, bounds=(0, 5*ceil(break_even)), method='bounded', options={'xatol': 0.1, 'maxiter': 2000})\n",
    "    if exp_time(ceil(res.x)) > exp_time(floor(res.x)):\n",
    "        return floor(res.x)\n",
    "    else:\n",
    "        return ceil(res.x)\n",
    "\n",
    "def time_per_pass(hash_labels_per_sec, read_labels_per_sec, q):\n",
    "    parallel_nonces = find_parallel_nonces(hash_labels_per_sec, read_labels_per_sec, q)\n",
    "    expected_time_per_label = expected_total_time_per_label(hash_labels_per_sec, read_labels_per_sec, parallel_nonces,q)\n",
    "    time_per_pass = expected_time_per_label * n / 60\n",
    "    return time_per_pass\n",
    "\n",
    "def percentile_time_per_pass(hash_labels_per_sec, read_labels_per_sec, q, percentile):\n",
    "    parallel_nonces = find_parallel_nonces(hash_labels_per_sec, read_labels_per_sec, q)\n",
    "    percentile_time_per_label =  percentile_total_time_per_label(hash_labels_per_sec, read_labels_per_sec, parallel_nonces, q, percentile)\n",
    "    time_per_pass = percentile_time_per_label * n / 60\n",
    "    return time_per_pass\n",
    "\n",
    "\n",
    "def display_optimized_nonces(hash_labels_per_sec, read_labels_per_sec, q, n):\n",
    "    parallel_nonces = find_parallel_nonces(hash_labels_per_sec, read_labels_per_sec, q)\n",
    "    mb_per_sec = read_labels_per_sec * label_len / 2**20\n",
    "    expected_time_per_label = expected_total_time_per_label(hash_labels_per_sec, read_labels_per_sec, parallel_nonces,q)\n",
    "    p99_per_label = percentile_total_time_per_label(hash_labels_per_sec, read_labels_per_sec, parallel_nonces,q, 0.99)\n",
    "    \n",
    "    dm(rf\"\"\"#### Optimized execution for $q={q:.2f}$, $2^{{ {log(hash_labels_per_sec,2):.2f} }}$ hashes/sec, ${mb_per_sec:.2f}$ MB/sec read rate\n",
    "* Optimal number of parallel nonces: {parallel_nonces}\n",
    "  - {ceil(parallel_nonces/nonces_per_hash)} hash invocations\n",
    "  - will take {expected_total_passes(parallel_nonces,q):.6f} passes in expectation\n",
    "  - Expected total time per label is {expected_time_per_label:.2e} seconds.\n",
    "      - 99${{}}^{{th}}$-percentile time per label is {p99_per_label:.2e} seconds\n",
    "  - Expected total time for $2^{{ {log(n,2):.2f} }}$ labels is ${expected_time_per_label * n / 60:.2f}$ minutes.\n",
    "      - 99${{}}^{{th}}$-percentile total time is {p99_per_label * n / 60:.2f} minutes\n",
    "\"\"\")\n",
    "\n",
    "q=1/9\n",
    "display_optimized_nonces(hash_labels_per_sec, read_labels_per_sec_fast, q, n)\n",
    "\n",
    "read_labels_per_sec_slow = read_mb_per_sec_slow * 2**20 / label_len\n",
    "display_optimized_nonces(hash_labels_per_sec_slow, read_labels_per_sec_slow, q, n)"
   ]
  },
  {
   "cell_type": "markdown",
   "id": "82a99fbd-bb44-4a0f-adc4-85840d9a1b3e",
   "metadata": {},
   "source": [
    "### Optimizing $k$ given $q$"
   ]
  },
  {
   "cell_type": "code",
   "execution_count": 9,
   "id": "c406ce41-1efa-4511-848a-df9c0e843505",
   "metadata": {},
   "outputs": [
    {
     "data": {
      "text/markdown": [
       "### Proof consists of a single nonce with 217 good labels\n",
       "\n",
       "* Proof size is $1085$ bytes. \n",
       "* Verification cost is $217$ scrypt evaluations.\n",
       "    \n",
       "For honest users: $q=\\Pr[Binom(n=2^{ 35.00 }, p=200.15/n) \\ge 217] = 0.11 = 2^{ -3.17 }$\n",
       "  *  Expected number of nonces for honest parties is 9 (3 hash invocations per label)\n",
       "  *  Need 59 nonces to ensure honest failure probability of less than $2^{ -10.03 } \\le 2^{ -10.00 }$\n",
       "  *  Need 118 nonces to ensure honest failure probability of less than $2^{ -20.00 }$\n",
       "  \n",
       "For the adversary: $\\Pr[Binom(0.75\\cdot n, p=200.15/n) \\ge 217] = 0.00 = 2^{ -22.97 }$\n",
       "  *  Expected number of nonces for adversary is $8236742=2^{ 22.97 }$\n",
       "  *  With $2^{ 22.93 }$ nonce attempts, probability that adversary succeeds is less than $2^{ -0.69 }$\n"
      ],
      "text/plain": [
       "<IPython.core.display.Markdown object>"
      ]
     },
     "metadata": {},
     "output_type": "display_data"
    }
   ],
   "source": [
    "# Find the smallest k that requires the adversary to search through min_adv_nonces in expectation to find a solution.\n",
    "\n",
    "def find_k(q: float, n1: int, c1: float, min_log_adv_nonces: int):\n",
    "    def k_error(k):\n",
    "        k = ceil(k)\n",
    "        p = find_p(k, n1, q)\n",
    "        \n",
    "        adv_log_prob = binom.logsf(k, ceil(c1*n1), p)/log(2)\n",
    "        expected_log_nonces = -adv_log_prob\n",
    "        \n",
    "        if expected_log_nonces < min_log_adv_nonces:\n",
    "            return math.inf\n",
    "        else:\n",
    "            return k\n",
    "    \n",
    "    res = optimize.minimize_scalar(k_error, bounds=(16, 1000), method='bounded', options={'xatol': 0.5, 'maxiter': 2000})\n",
    "    return res.x\n",
    "\n",
    "\n",
    "# Use q computed above\n",
    "k = find_k(q, n,c,log(adv_nonces,2))\n",
    "k = ceil(k)\n",
    "p = find_p(k,n,q)\n",
    "\n",
    "\n",
    "display_results(k,n,p)\n"
   ]
  },
  {
   "cell_type": "markdown",
   "id": "ec41b8bc-77c7-4207-98c6-7455278a116f",
   "metadata": {},
   "source": [
    "## Optimizing $q$ given $k$ and `min_adv_nonces`\n",
    "\n",
    "Here, we want to fix $k$ and find the largest value of $q$ for which the adversary still requires `min_adv_nonces` in expectation."
   ]
  },
  {
   "cell_type": "code",
   "execution_count": 10,
   "id": "c943cf29-fd4e-40b3-8669-890fa3def330",
   "metadata": {},
   "outputs": [
    {
     "data": {
      "text/markdown": [
       "### Proof consists of a single nonce with 600 good labels\n",
       "\n",
       "* Proof size is $3000$ bytes. \n",
       "* Verification cost is $600$ scrypt evaluations.\n",
       "    \n",
       "For honest users: $q=\\Pr[Binom(n=2^{ 35.00 }, p=643.96/n) \\ge 600] = 0.96 = 2^{ -0.06 }$\n",
       "  *  Expected number of nonces for honest parties is 2 (1 hash invocations per label)\n",
       "  *  Need 3 nonces to ensure honest failure probability of less than $2^{ -13.70 } \\le 2^{ -10.00 }$\n",
       "  *  Need 5 nonces to ensure honest failure probability of less than $2^{ -20.00 }$\n",
       "  \n",
       "For the adversary: $\\Pr[Binom(0.75\\cdot n, p=643.96/n) \\ge 600] = 0.00 = 2^{ -22.93 }$\n",
       "  *  Expected number of nonces for adversary is $8000005=2^{ 22.93 }$\n",
       "  *  With $2^{ 22.93 }$ nonce attempts, probability that adversary succeeds is less than $2^{ -0.66 }$\n"
      ],
      "text/plain": [
       "<IPython.core.display.Markdown object>"
      ]
     },
     "metadata": {},
     "output_type": "display_data"
    },
    {
     "data": {
      "text/markdown": [
       "#### Optimized execution for $q=0.96$, $2^{ 27.00 }$ hashes/sec, $200.00$ MB/sec read rate\n",
       "* Optimal number of parallel nonces: 12\n",
       "  - 4 hash invocations\n",
       "  - will take 1.000000 passes in expectation\n",
       "  - Expected total time per label is 3.81e-08 seconds.\n",
       "      - 99${}^{th}$-percentile time per label is 3.81e-08 seconds\n",
       "  - Expected total time for $2^{ 35.00 }$ labels is $21.85$ minutes.\n",
       "      - 99${}^{th}$-percentile total time is 21.85 minutes\n"
      ],
      "text/plain": [
       "<IPython.core.display.Markdown object>"
      ]
     },
     "metadata": {},
     "output_type": "display_data"
    },
    {
     "data": {
      "text/markdown": [
       "#### Optimized execution for $q=0.96$, $2^{ 26.00 }$ hashes/sec, $150.00$ MB/sec read rate\n",
       "* Optimal number of parallel nonces: 9\n",
       "  - 3 hash invocations\n",
       "  - will take 1.000000 passes in expectation\n",
       "  - Expected total time per label is 5.09e-08 seconds.\n",
       "      - 99${}^{th}$-percentile time per label is 5.09e-08 seconds\n",
       "  - Expected total time for $2^{ 35.00 }$ labels is $29.13$ minutes.\n",
       "      - 99${}^{th}$-percentile total time is 29.13 minutes\n"
      ],
      "text/plain": [
       "<IPython.core.display.Markdown object>"
      ]
     },
     "metadata": {},
     "output_type": "display_data"
    }
   ],
   "source": [
    "def find_p_given_k(k: int, n1: int, c1: float, min_log_adv_nonces: int):\n",
    "    def p_error(k1):\n",
    "        p = k1/n1\n",
    "        \n",
    "        if p == 0:\n",
    "            return math.inf\n",
    "        \n",
    "        adv_log_prob = binom.logsf(k, ceil(c1*n1), p)/log(2)\n",
    "        expected_log_nonces = -adv_log_prob\n",
    "        \n",
    "        if expected_log_nonces < min_log_adv_nonces:\n",
    "            return k1\n",
    "        else:\n",
    "            return -k1\n",
    "    \n",
    "    res = optimize.minimize_scalar(p_error, bounds=(0, 5*k), method='bounded', options={'xatol': 2**(-64), 'maxiter': 2**20})\n",
    "    if not res.success:\n",
    "        dm(\"**Warning**: `find_p_given_k` optimization unsuccessful!\")\n",
    "    return res.x / n\n",
    "\n",
    "\n",
    "k=600\n",
    "p = find_p_given_k(k, n, c, log(adv_nonces,2))\n",
    "q = find_q_given_p(k, n, p)\n",
    "\n",
    "display_results(k,n,p)\n",
    "display_optimized_nonces(hash_labels_per_sec, read_labels_per_sec_fast, q, n)\n",
    "display_optimized_nonces(hash_labels_per_sec_slow, read_labels_per_sec_slow, q, n)"
   ]
  },
  {
   "cell_type": "markdown",
   "id": "2c45843d-4077-46ca-b55f-58220a94ae1a",
   "metadata": {},
   "source": [
    "## Computing Rate-limiting PoW difficulty and time"
   ]
  },
  {
   "cell_type": "code",
   "execution_count": 11,
   "id": "1e02f67a-ee6d-4204-a970-62cfe7dd1188",
   "metadata": {},
   "outputs": [
    {
     "data": {
      "text/markdown": [
       "\n",
       "* Total PoW time for adversary: 6.00 hours\n",
       "   - Per-nonce$\\times$space-unit difficulty for adversary should be 0.003 seconds\n",
       "   - This means each nonce-block$\\times$space-unit PoW should have difficulty 0.009 seconds\n",
       "* Total expected PoW time for honest party: 2.82 seconds\n",
       "   - Expected per-nonce$\\times$space-unit PoW time for honest party: 2.70 seconds (each per-nonce PoW should be a $2^{ -24.93 }$ fraction of the total number of PoST init hashes).\n",
       "* Total 99${}^{th}$-percentile PoW time for honest party: 5.40 seconds\n",
       "    "
      ],
      "text/plain": [
       "<IPython.core.display.Markdown object>"
      ]
     },
     "metadata": {},
     "output_type": "display_data"
    }
   ],
   "source": [
    "\n",
    "def display_pow_times(c, adv_init_time, adv_pow_advantage, adv_nonces, q):\n",
    "    # Total time that all the rate-limiting PoWs together should take for the adversary (in seconds)\n",
    "    adv_total_rate_limiting_pow_time = adv_init_time * (1-c)\n",
    "\n",
    "    honest_pow_time_per_nonce = adv_total_rate_limiting_pow_time * adv_pow_advantage / adv_nonces\n",
    "    total_expected_honest_pow_time = honest_pow_time_per_nonce / q\n",
    "\n",
    "\n",
    "    dm(rf\"\"\"\n",
    "* Total PoW time for adversary: {adv_total_rate_limiting_pow_time / (60*60):.2f} hours\n",
    "   - Per-nonce$\\times$space-unit difficulty for adversary should be {adv_total_rate_limiting_pow_time / adv_nonces:.3f} seconds\n",
    "   - This means each nonce-block$\\times$space-unit PoW should have difficulty {nonces_per_hash*adv_total_rate_limiting_pow_time / adv_nonces:.3f} seconds\n",
    "* Total expected PoW time for honest party: {total_expected_honest_pow_time:.2f} seconds\n",
    "   - Expected per-nonce$\\times$space-unit PoW time for honest party: {honest_pow_time_per_nonce:.2f} seconds (each per-nonce PoW should be a $2^{{ {log((1-c)/adv_nonces,2):.2f} }}$ fraction of the total number of PoST init hashes).\n",
    "* Total 99${{}}^{{th}}$-percentile PoW time for honest party: {percentile_honest_nonces(q, .99)*honest_pow_time_per_nonce:.2f} seconds\n",
    "    \"\"\")\n",
    "    \n",
    "display_pow_times(c, adv_init_time, adv_pow_advantage, adv_nonces, q)"
   ]
  },
  {
   "cell_type": "markdown",
   "id": "9f98d12f-a933-4907-918c-e0b281b1397c",
   "metadata": {},
   "source": [
    "# Nice graphs"
   ]
  },
  {
   "cell_type": "code",
   "execution_count": 12,
   "id": "f26ef990-d1d4-48bd-a325-42fbe6fe3a41",
   "metadata": {},
   "outputs": [],
   "source": [
    "%matplotlib widget\n",
    "import numpy as np\n",
    "import matplotlib.pyplot as plt"
   ]
  },
  {
   "cell_type": "code",
   "execution_count": 13,
   "id": "3028cba7-35de-4429-82e7-d5aa00a594c3",
   "metadata": {},
   "outputs": [
    {
     "data": {
      "application/vnd.jupyter.widget-view+json": {
       "model_id": "0c59c305334749f3986f800875b5586e",
       "version_major": 2,
       "version_minor": 0
      },
      "image/png": "[encoded data removed]",
      "text/html": [
       "\n",
       "            <div style=\"display: inline-block;\">\n",
       "                <div class=\"jupyter-widgets widget-label\" style=\"text-align: center;\">\n",
       "                    Figure\n",
       "                </div>\n",
       "                <img src='data:image/png;base64,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' width=640.0/>\n",
       "            </div>\n",
       "        "
      ],
      "text/plain": [
       "Canvas(toolbar=Toolbar(toolitems=[('Home', 'Reset original view', 'home', 'home'), ('Back', 'Back to previous …"
      ]
     },
     "metadata": {},
     "output_type": "display_data"
    },
    {
     "data": {
      "text/markdown": [
       "(Major grid lines on y axis are days, minor grid lines are hours)"
      ],
      "text/plain": [
       "<IPython.core.display.Markdown object>"
      ]
     },
     "metadata": {},
     "output_type": "display_data"
    }
   ],
   "source": [
    "from_k,to_k,step_k = 100, 700, 25\n",
    "\n",
    "k_arr = np.arange(from_k, to_k, step_k)\n",
    "p_vals = { k: find_p_given_k(k, n, c, log(adv_nonces,2)) for k in k_arr }\n",
    "q_vals = { k: find_q_given_p(k, n, p_vals[k]) for k in k_arr }\n",
    "\n",
    "\n",
    "\n",
    "fig, ax = plt.subplots()\n",
    "\n",
    "ax.plot(k_arr, [time_per_pass(hash_labels_per_sec,read_labels_per_sec_fast, q_vals[k]) for k in k_arr], 'g-', label=\"Fast machine (expected time)\")\n",
    "ax.plot(k_arr, [percentile_time_per_pass(hash_labels_per_sec,read_labels_per_sec_fast, q_vals[k],0.99) for k in k_arr], 'g--', label=\"Fast machine ($99^{th}$ percentile)\")\n",
    "ax.plot(k_arr, [time_per_pass(hash_labels_per_sec_slow,read_labels_per_sec_slow, q_vals[k]) for k in k_arr], 'b-', label=\"Slow machine (expected time)\")\n",
    "ax.plot(k_arr, [percentile_time_per_pass(hash_labels_per_sec_slow,read_labels_per_sec_slow, q_vals[k],0.99) for k in k_arr], 'b--', label=\"Slow machine ($99^{th}$ percentile)\")\n",
    "\n",
    "\n",
    "\n",
    "ax.set_xticks(k_arr, minor=True)\n",
    "ymin,ymax = ax.get_ylim()\n",
    "ax.set_yticks(np.arange(0, ymax, 60*24))\n",
    "ax.set_yticks(np.arange(0, ymax, 60), minor=True)\n",
    "ax.grid(axis='both', which='major', alpha=0.5)\n",
    "ax.grid(axis='both', which='minor', alpha=0.2)\n",
    "\n",
    "plt.title(rf\"Proof times for {n*label_len/2**30:.0f}GB of data\" + \"\\n\" + rf\"Expected adversarial nonces=${adv_nonces:.0f}=2^{{ {log(adv_nonces,2):.2f} }}$\")\n",
    "plt.xlabel('$k_2$')\n",
    "plt.ylabel('Proof time in minutes')\n",
    "plt.legend(loc=\"upper right\")\n",
    "\n",
    "plt.show()\n",
    "dm(\"(Major grid lines on y axis are days, minor grid lines are hours)\")"
   ]
  },
  {
   "cell_type": "markdown",
   "id": "f3a177b8-ddc3-4100-a7eb-517437060efd",
   "metadata": {},
   "source": [
    "# Fiat-Shamir Post Proof\n",
    "1. Prover finds a nonce and $k$ \"good\" label indices\n",
    "    - Prover must solve a proof-of-work `pow1` with PoST challenge and nonce as its challenge. Denote $W_1$ the expected cost of a `pow1` solution.\n",
    "2. The indices are then hashed (not the labels themselves), to produce a random subset of $k_3$ indices (out of the original $k$). \n",
    "    - Prover must solve a proof-of-work `pow2` with set of indices, in addition to nonce and PoST challenge as its challenge. Denote $W_2$ the expected cost of a `pow2` solution.\n",
    "3. Proof consists of:\n",
    "   - The nonce, \n",
    "   - $k$ indices. \n",
    "   - `pow1`, `pow2`\n",
    "4. Verifier:\n",
    "    - checks both proofs of work, \n",
    "    - hashes the $k$ indices to find the $k_3$ subset\n",
    "    - computes $B\\cdot k_3$ scrypt-hashes  (to reconstruct the labels), where $B$ is the number of PoST table cells in each label.\n",
    "    - verifies that all the labels (of the $k_3$) are good.\n",
    "\n",
    "\n",
    "The intuition for the security analysis is as follows:\n",
    "* The adversary first must pay $W_1$ to solve `pow1`. \n",
    "* For `pow1` solution $i$, it can run over its $c\\cdot n$ labels \"for free\"; denote $c'_i = k'_i/k$, where $k'_i$ is the number of good labels it found.\n",
    "    - Note that it doesn't matter whether it chooses a new nonce or just a new `pow1` with the same nonce.\n",
    "* Given $c'_i$, it can decide whether to solve `pow2` and get a good output set (with probability $(c'_i)^{k_3}$), or try another solution to `pow1` (and hopefully get a larger $c'_{i+1}$.\n",
    "* Since the attempts are independent, if the better strategy is to solve `pow2` this will still be the case even if the first attempt fails. Thus, the optimal strategy is, for some value `\\tau`, to solve `pow1` until $c'_i\\ge \\tau$, and then solve `pow2` until it finds a good proof.\n",
    "* Given $\\tau$, $c$, $k$, $k_3$ and $p$, we can compute the expected cost to the adversary as follows:\n",
    "    - Let $X$ be a random variable denoting the number of `pow1` attempts until $c' \\ge \\tau$, and $Y$ the number of attempts until a good set is found by repeatedly trying `pow2`. Then the total cost to the adversary is $W_1\\cdot X + W_2\\cdot Y$. \n",
    "    - The expected cost is thus $W_1\\cdot E(X)+W_2\\cdot E(Y)$.\n",
    "    - Since $c'_i \\ge \\tau \\Leftrightarrow k'_i \\ge \\tau \\cdot k$, and $k'_i$ is binomially distributed with parameters $c\\cdot n$ and $p$,  then \n",
    "      $$ E(X)=1/\\Pr{[B(c\\cdot n,p)\\ge \\tau\\cdot k]} $$. \n",
    "    - The distribution of $Y$ can be constructed by first sampling $k'\\sim B(c\\cdot n,p)|k'/k\\ge \\tau$, and then sampling from the geometric distribution with parameter $c'=k'/k$.  So $$  \n",
    "    E(Y) = \\frac{1}{\\Pr{[B(c\\cdot n,p)\\ge \\tau\\cdot k]}}\\sum_{k'=\\lceil \\tau \\cdot k \\rceil}^{c\\cdot n} \\Pr{\\left[ B(c\\cdot n,p)=k' \\right]}E(Y|c'=k'/k) =  \n",
    "        \\frac{1}{\\Pr{[B(c\\cdot n,p)\\ge \\tau\\cdot k]}}\\sum_{k'=\\lceil \\tau \\cdot k \\rceil}^{c\\cdot n} \\Pr{\\left[ B(c\\cdot n,p)=k' \\right]}\\left( \\frac{k'}{k}\\right)^{-k_3} \n",
    "    $$\n",
    "    \n",
    "    - Putting things together, the total expected cost is\n",
    "    $$\n",
    "    W_1\\cdot E(X)+W_2\\cdot E(Y) = \\frac{1}{\\Pr{[B(c\\cdot n,p)\\ge \\tau\\cdot k]}} \\left( W_1 + W_2 \\cdot \\sum_{k'=\\lceil \\tau \\cdot k \\rceil}^{c\\cdot n} \\Pr{\\left[ B(c\\cdot n,p)=k' \\right]}\\left( \\frac{k'}{k}\\right)^{-k_3} \\right)\n",
    "    $$\n",
    "    \n",
    "    "
   ]
  },
  {
   "cell_type": "code",
   "execution_count": 14,
   "id": "b813255c-f401-4c62-bc1f-840c7643f343",
   "metadata": {
    "tags": []
   },
   "outputs": [],
   "source": [
    "def expected_Y(tau, c, k, k3, n, p):\n",
    "    max_kprime = ceil(c*n)\n",
    "    min_kprime = ceil(tau*k)\n",
    "    \n",
    "    total = 0\n",
    "    for kprime in range(min_kprime, max_kprime):\n",
    "        total += binom.pmf(kprime, c*n, p) * (kprime / k) ** (-k3)\n",
    "        \n",
    "    total /= binom.sf(tau*k, ceil(c*n), p)\n",
    "    \n",
    "    return total\n",
    "    \n",
    "# The exact calculation is too computationally expensive when n is large\n",
    "# We approximate by not counting k' values far from the expectation \n",
    "# (specifically, we check the range min_kprime,max_kprime such that the probability that\n",
    "# k' is outside the range is less than 2eps)\n",
    "# The function returns a tuple (expY_min, exp_Y_max), such that\n",
    "# the actual expectation is in this range.\n",
    "# bound on the uncounted values\n",
    "def approximate_expected_Y(tau, c, k, k3, n, p, eps):\n",
    "    min_kprime = max(floor(binom.ppf(eps, ceil(c*n), p)), ceil(tau*k))\n",
    "    max_kprime = max(ceil(binom.isf(eps, ceil(c*n), p)), min_kprime+1)\n",
    "    #dm(rf\"\"\" $k'_{{max}}={max_kprime}$; $k'_{{min}}={min_kprime}$ \"\"\")\n",
    "    \n",
    "    conditional_scaling_factor = binom.sf(tau*k, ceil(c*n), p) # We condition on k'>= tau*k\n",
    "    \n",
    "    max_err = binom.sf(max_kprime, ceil(c*n), p)*(k/max_kprime)**k3 \n",
    "    if min_kprime > ceil(tau*k):\n",
    "        max_err += binom.cdf(min_kprime - 1, ceil(c*n), p) * tau**(-k3) \n",
    "    max_err /= conditional_scaling_factor\n",
    "        \n",
    "    total = 0\n",
    "    for kprime in range(min_kprime, max_kprime):\n",
    "        total += binom.pmf(kprime, ceil(c*n), p) * (kprime / k) ** (-k3)\n",
    "        \n",
    "    total /= conditional_scaling_factor\n",
    "    \n",
    "    return total, total+max_err\n",
    "    \n",
    "\n",
    "# Using the approximation for Y, and the formula above for expected total cost:\n",
    "def approximate_total_cost(tau, w1, w2, c, k, k3, n, p, eps):\n",
    "    conditional_scaling_factor = binom.sf(tau*k, ceil(c*n), p) # We condition on k'>= tau*k\n",
    "    \n",
    "    y_cost_min, y_cost_max = approximate_expected_Y(tau, c, k, k3, n, p, eps)\n",
    "    y_cost_min *= w2\n",
    "    y_cost_max *= w2\n",
    "    x_cost = w1/conditional_scaling_factor\n",
    "    \n",
    "    return x_cost + y_cost_min, x_cost + y_cost_max\n",
    "    \n",
    "\n",
    "# Now we can determine the optimal value of tau (for the adversary) given all the other parameters\n",
    "def find_optimal_tau(w1, w2, c, k, k3, n, p, eps):\n",
    "    def cost_error_min(tau):\n",
    "        return approximate_total_cost(tau, w1, w2, c, k, k3, n, p, eps)[0]\n",
    "    \n",
    "    def cost_error_max(tau):\n",
    "        return approximate_total_cost(tau, w1, w2, c, k, k3, n, p, eps)[1]\n",
    "    \n",
    "    \n",
    "    res_min = optimize.minimize_scalar(cost_error_min, bounds=(c*n*p/k, 1), method='bounded', options={'xatol': 2**(-64), 'maxiter': 2**20})\n",
    "    res_max = optimize.minimize_scalar(cost_error_max, bounds=(c*n*p/k, 1), method='bounded', options={'xatol': 2**(-64), 'maxiter': 2**20})\n",
    "    \n",
    "    return res_min.x, res_max.x\n",
    "\n",
    "# Returns a lower bound on the optimal adversarial cost given the parameters.\n",
    "def find_optimal_adv_cost(w1, w2, c, k, k3, n, p, eps):\n",
    "    tau_min, tau_max = find_optimal_tau(w1, w2, c, k, k3, n, p, eps)\n",
    "    \n",
    "    return min( approximate_total_cost(tau_min, w1, w2, c, k, k3, n, p, eps) + approximate_total_cost(tau_max, w1, w2, c, k, k3, n, p, eps) )\n",
    "\n",
    "\n"
   ]
  },
  {
   "cell_type": "markdown",
   "id": "4edc3979-6ce6-4c4b-8f00-f9e8a375bbf1",
   "metadata": {},
   "source": [
    "### Finding $W_1$ and $W_2$\n",
    "\n",
    "The honest cost of work for the proof depends on the number of nonces the honest party must try, since it pays $W_1$ for every nonce, and then $W_2$ once.\n",
    "The adversarial factor (the multiplicative factor in the expected adversarial cost compared to the expected honest cost) changes with the ratio of $W_1$ to $W_2$.  \n",
    "We set $W_1$ and $W_2$ such that this adversarial factor is maximized."
   ]
  },
  {
   "cell_type": "code",
   "execution_count": 15,
   "id": "a9497b15-33a2-4741-9d36-b2306319e654",
   "metadata": {
    "tags": []
   },
   "outputs": [],
   "source": [
    "\n",
    "# Keeping total honest cost at 1, and letting w2_frac be the fraction of the honest cost solving `pow2` and honest_nonces the expected number of nonces\n",
    "# honest parties must try, return the expected work parameters `w1` for `pow1` and `w2` for `pow2` required to achieve this.\n",
    "def w1_w2_from_w2_frac(w2_frac, honest_nonces):\n",
    "    return (1-w2_frac)/honest_nonces, w2_frac \n",
    "\n",
    "# Find the w1/w2 combination that maximizes the expected adversarial cost, while keeping the honest cost at 1.\n",
    "# Returns a tuple (w2_frac, adv_cost) where w2_frac is the fraction of the honest cost spent on pow2 and adv_cost is the expected adversarial cost.\n",
    "def find_optimal_w2_frac(honest_nonces, c, k, k3, n, p, eps, disp=0):\n",
    "    \n",
    "    def w2_frac_error(w2_frac):\n",
    "        w1, w2 = w1_w2_from_w2_frac(w2_frac, honest_nonces)\n",
    "        return -find_optimal_adv_cost(w1, w2, c, k, k3, n, p, 2**(-30)) \n",
    "    \n",
    "    res = optimize.minimize_scalar(w2_frac_error, bounds=(0.4, 0.999), method='bounded', options={'disp': disp, 'xatol': 2**(-64), 'maxiter': 2**20})\n",
    "    \n",
    "    return res.x, -res.fun\n"
   ]
  },
  {
   "cell_type": "markdown",
   "id": "9c58c30f-fe99-4698-be1a-7405a8c30e19",
   "metadata": {},
   "source": [
    "### Finding minimal $k$ (or minimal $k_3$)"
   ]
  },
  {
   "cell_type": "code",
   "execution_count": 16,
   "id": "05114109-9500-41db-b536-d50577d2573b",
   "metadata": {
    "tags": []
   },
   "outputs": [],
   "source": [
    "from bisect import bisect_left\n",
    "\n",
    "\n",
    "# Find the smallest k that will give adv_cost_factor expected cost to the adversary with given k3\n",
    "def find_minimal_k(adv_cost_factor, c, k3, q, n, eps, disp=0):\n",
    "    honest_nonces = 1/q\n",
    "    \n",
    "    def get_work(k):\n",
    "        p = find_p(k, n, q)\n",
    "        work = find_optimal_w2_frac(honest_nonces, c, k, k3, n, p, eps, disp=disp)[1]\n",
    "        if disp > 0:\n",
    "            dm(rf\"`find_minimal_k.get_work`($k={k}$): work={work:.2e}\")\n",
    "        return work\n",
    "    \n",
    "    min_val, max_val = 100, 8000\n",
    "    return bisect_left(range(min_val,max_val), adv_cost_factor, key=get_work) + min_val\n",
    "\n",
    "# Find the smallest k3 that will give adv_cost_factor expected cost to the adversary with given k\n",
    "def find_minimal_k3(adv_cost_factor, c, k, q, n, eps, disp=0):\n",
    "    honest_nonces = 1/q\n",
    "    p = find_p(k, n, q)\n",
    "    \n",
    "    def get_work(k3):\n",
    "        work = find_optimal_w2_frac(honest_nonces, c, k, k3, n, p, eps, disp)[1]\n",
    "        if disp > 0:\n",
    "            dm(rf\"`find_minimal_k3.get_work`($k_3={k3}$): work={work:.2e}\")\n",
    "        return work\n",
    "    \n",
    "    min_val, max_val = 40, min(k,300)\n",
    "    return bisect_left(range(min_val,max_val), adv_cost_factor, key=get_work) + min_val\n",
    "\n"
   ]
  },
  {
   "cell_type": "markdown",
   "id": "fd325160-3086-460f-8585-9d8e9fd1dd34",
   "metadata": {
    "tags": []
   },
   "source": [
    "### Adversary's optimal $c$ for given parameters\n",
    "\n",
    "Let $I$ be an upper bound on the unit storage cost, measured in \"honest proof cost units\".  That is, the cost of storing an entire space unit should be at most $I$ times the PoW cost of an honest PoST proof. By design, the initialization cost is such an upper bound.\n",
    "\n",
    "The adversary pays at most $c\\cdot  I$ for storage, and an additional $W(c)$ for grinding on the proof PoW. (We note that the adversary may pay *less* for storage, since $I$ is merely an upper bound; however the lower the storage cost the lower the advantage for the adversary --- since it can gain an advantage only by replacing storage with work, and this advantage is monotonically lower the lower the storage cost)\n",
    "\n",
    "Below, we try to find the value of $c$ that minimizes the total adversarial work; this should give us a bound on the adversarial advantage over the honest user."
   ]
  },
  {
   "cell_type": "code",
   "execution_count": 24,
   "id": "243b2a62-79a9-466e-b748-1d306898d105",
   "metadata": {
    "tags": []
   },
   "outputs": [],
   "source": [
    "def find_optimal_c(I, w1, w2, k, k3, q, n, eps, disp=0):\n",
    "    honest_nonces = 1/q\n",
    "    p = find_p(k, n, q)\n",
    "    \n",
    "    def get_work(c):\n",
    "        work = find_optimal_adv_cost(w1, w2, c, k, k3, n, p, eps)\n",
    "        if disp > 0:\n",
    "            dm(rf\"`find_optimal_c`($I=2^{{ {log(I,2)} }}$, $k={k}$, $k_3={k3}$, $n=2^{{ {log(n,2)} }}$, $p={n*p:.1f}/n$, $\\epsilon=2^{{ { log(eps,2) } }} $)`.get_work`($c={c}$): work={work:.2e}\")\n",
    "        return I*c+work\n",
    "        \n",
    "    res = optimize.minimize_scalar(get_work, bounds=(0, 1), method='bounded', options={'disp': disp, 'xatol': 2**(-64), 'maxiter': 2**20})\n",
    "    \n",
    "    return res.x, res.fun"
   ]
  },
  {
   "cell_type": "code",
   "execution_count": 87,
   "id": "564ea8db-3547-454e-b08e-e58c6e762504",
   "metadata": {
    "tags": []
   },
   "outputs": [
    {
     "data": {
      "text/markdown": [
       "Finding optimal $k_3$ for $k=300$"
      ],
      "text/plain": [
       "<IPython.core.display.Markdown object>"
      ]
     },
     "metadata": {},
     "output_type": "display_data"
    },
    {
     "data": {
      "text/markdown": [
       "`find_minimal_k3.get_work`($k_3=170$): work=7.22e+07"
      ],
      "text/plain": [
       "<IPython.core.display.Markdown object>"
      ]
     },
     "metadata": {},
     "output_type": "display_data"
    },
    {
     "data": {
      "text/markdown": [
       "`find_minimal_k3.get_work`($k_3=105$): work=2.73e+06"
      ],
      "text/plain": [
       "<IPython.core.display.Markdown object>"
      ]
     },
     "metadata": {},
     "output_type": "display_data"
    },
    {
     "data": {
      "text/markdown": [
       "`find_minimal_k3.get_work`($k_3=72$): work=1.93e+05"
      ],
      "text/plain": [
       "<IPython.core.display.Markdown object>"
      ]
     },
     "metadata": {},
     "output_type": "display_data"
    },
    {
     "data": {
      "text/markdown": [
       "`find_minimal_k3.get_work`($k_3=56$): work=3.76e+04"
      ],
      "text/plain": [
       "<IPython.core.display.Markdown object>"
      ]
     },
     "metadata": {},
     "output_type": "display_data"
    },
    {
     "data": {
      "text/markdown": [
       "`find_minimal_k3.get_work`($k_3=64$): work=8.82e+04"
      ],
      "text/plain": [
       "<IPython.core.display.Markdown object>"
      ]
     },
     "metadata": {},
     "output_type": "display_data"
    },
    {
     "data": {
      "text/markdown": [
       "`find_minimal_k3.get_work`($k_3=68$): work=1.32e+05"
      ],
      "text/plain": [
       "<IPython.core.display.Markdown object>"
      ]
     },
     "metadata": {},
     "output_type": "display_data"
    },
    {
     "data": {
      "text/markdown": [
       "`find_minimal_k3.get_work`($k_3=66$): work=1.08e+05"
      ],
      "text/plain": [
       "<IPython.core.display.Markdown object>"
      ]
     },
     "metadata": {},
     "output_type": "display_data"
    },
    {
     "data": {
      "text/markdown": [
       "`find_minimal_k3.get_work`($k_3=65$): work=9.75e+04"
      ],
      "text/plain": [
       "<IPython.core.display.Markdown object>"
      ]
     },
     "metadata": {},
     "output_type": "display_data"
    },
    {
     "data": {
      "text/markdown": [
       "For $k=300$, $c=0.65$, calculated $k_3=66$ (work=1.08e+05)"
      ],
      "text/plain": [
       "<IPython.core.display.Markdown object>"
      ]
     },
     "metadata": {},
     "output_type": "display_data"
    }
   ],
   "source": [
    "k = 300\n",
    "honest_nonces = 9\n",
    "q = find_q_from_expected_nonces(honest_nonces)\n",
    "p = find_p(k, n, q)\n",
    "c = 0.65\n",
    "eps=2**(-30)\n",
    "adv_cost_factor = 1e5\n",
    "\n",
    "dm(rf\"Finding optimal $k_3$ for $k={k}$\")\n",
    "k3 = find_minimal_k3(adv_cost_factor, c, k, q, n, eps, disp=1)\n",
    "w2_frac, work = find_optimal_w2_frac(honest_nonces, c, k, k3, n, p, eps)\n",
    "dm(rf\"For $k={k}$, $c={c}$, calculated $k_3={k3}$ (work={work:.2e})\")"
   ]
  },
  {
   "cell_type": "markdown",
   "id": "adc50fbd-2396-4df6-9929-bd28f7a9c528",
   "metadata": {},
   "source": [
    "### Set your own $k=k_2$ and $k_3$\n",
    "Here you set $k$ ($k_2$), $k_3$ and the expected number of nonces to arbitrary values, and compute the other parameters"
   ]
  },
  {
   "cell_type": "code",
   "execution_count": 105,
   "id": "583444c2-9650-4c6b-81f1-6c72e3538dcd",
   "metadata": {
    "tags": []
   },
   "outputs": [],
   "source": [
    "# Set the parameters here\n",
    "k = 300\n",
    "k3 = 60\n",
    "honest_nonces = 9\n",
    "\n",
    "nonces_per_hash = 128 / nonce_output_len # Ensure output is aligned on byte boundaries\n",
    "#nonces_per_hash = 2\n",
    "\n",
    "\n",
    "I = 2**25 # how much should a unit of initialization cost in \"honest proof PoWs\"\n",
    "          # (i.e., computing the PoWs for this many honest proofs for one space unit should be equivalent to initializing a unit of space)\n",
    "\n",
    "# Starting c value (we work \"best\" against an adversary storing a c fraction of the storage, and grinding for the rest)\n",
    "c = 0.65\n",
    "\n",
    "# Total PoW difficulty for init\n",
    "scrypt_iterations_per_init_hash = 8192 # Scrypt N parameter we use for init hash\n",
    "scrypt_iterations_per_pow_hash = 128 # Scrypt N parameter we use for PoW hash\n",
    "\n",
    "# Number of hours to initialize one units of honest space (used to compute the time for honest PoW)\n",
    "hours_per_honest_init = 24 "
   ]
  },
  {
   "cell_type": "code",
   "execution_count": 106,
   "id": "3046da20-bb84-43e1-b79f-0a1ae1bfd033",
   "metadata": {
    "tags": []
   },
   "outputs": [
    {
     "data": {
      "text/markdown": [
       "#### Optimized execution for $q=0.11$, $2^{ 27.00 }$ hashes/sec, $200.00$ MB/sec read rate\n",
       "* Optimal number of parallel nonces: 16\n",
       "  - 5 hash invocations\n",
       "  - will take 1.179107 passes in expectation\n",
       "  - Expected total time per label is 4.50e-08 seconds.\n",
       "      - 99${}^{th}$-percentile time per label is 1.14e-07 seconds\n",
       "  - Expected total time for $2^{ 35.00 }$ labels is $25.76$ minutes.\n",
       "      - 99${}^{th}$-percentile total time is 65.54 minutes\n"
      ],
      "text/plain": [
       "<IPython.core.display.Markdown object>"
      ]
     },
     "metadata": {},
     "output_type": "display_data"
    },
    {
     "data": {
      "text/markdown": [
       "#### Optimized execution for $q=0.11$, $2^{ 26.00 }$ hashes/sec, $150.00$ MB/sec read rate\n",
       "* Optimal number of parallel nonces: 9\n",
       "  - 3 hash invocations\n",
       "  - will take 1.530080 passes in expectation\n",
       "  - Expected total time per label is 7.78e-08 seconds.\n",
       "      - 99${}^{th}$-percentile time per label is 2.54e-07 seconds\n",
       "  - Expected total time for $2^{ 35.00 }$ labels is $44.57$ minutes.\n",
       "      - 99${}^{th}$-percentile total time is 145.64 minutes\n"
      ],
      "text/plain": [
       "<IPython.core.display.Markdown object>"
      ]
     },
     "metadata": {},
     "output_type": "display_data"
    }
   ],
   "source": [
    "# Computed parameters are here\n",
    "q = find_q_from_expected_nonces(honest_nonces)\n",
    "p = find_p(k, n, q)\n",
    "\n",
    "display_optimized_nonces(hash_labels_per_sec, read_labels_per_sec_fast, q, n)\n",
    "display_optimized_nonces(hash_labels_per_sec_slow, read_labels_per_sec_slow, q, n)"
   ]
  },
  {
   "cell_type": "code",
   "execution_count": 107,
   "id": "f9f02468-3420-4839-bc95-0e2afb5fac45",
   "metadata": {
    "tags": []
   },
   "outputs": [
    {
     "data": {
      "text/markdown": [
       "`find_optimal_c`($I=2^{ 25.0 }$, $k=300$, $k_3=60$, $n=2^{ 35.0 }$, $p=280.0/n$, $\\epsilon=2^{ -30.0 } $)`.get_work`($c=0.3819660112501051$): work=3.99e+12"
      ],
      "text/plain": [
       "<IPython.core.display.Markdown object>"
      ]
     },
     "metadata": {},
     "output_type": "display_data"
    },
    {
     "data": {
      "text/markdown": [
       "`find_optimal_c`($I=2^{ 25.0 }$, $k=300$, $k_3=60$, $n=2^{ 35.0 }$, $p=280.0/n$, $\\epsilon=2^{ -30.0 } $)`.get_work`($c=0.6180339887498948$): work=2.60e+05"
      ],
      "text/plain": [
       "<IPython.core.display.Markdown object>"
      ]
     },
     "metadata": {},
     "output_type": "display_data"
    },
    {
     "data": {
      "text/markdown": [
       "`find_optimal_c`($I=2^{ 25.0 }$, $k=300$, $k_3=60$, $n=2^{ 35.0 }$, $p=280.0/n$, $\\epsilon=2^{ -30.0 } $)`.get_work`($c=0.7639320225002102$): work=5.11e+02"
      ],
      "text/plain": [
       "<IPython.core.display.Markdown object>"
      ]
     },
     "metadata": {},
     "output_type": "display_data"
    },
    {
     "data": {
      "text/markdown": [
       "`find_optimal_c`($I=2^{ 25.0 }$, $k=300$, $k_3=60$, $n=2^{ 35.0 }$, $p=280.0/n$, $\\epsilon=2^{ -30.0 } $)`.get_work`($c=0.6909826464560095$): work=9.33e+03"
      ],
      "text/plain": [
       "<IPython.core.display.Markdown object>"
      ]
     },
     "metadata": {},
     "output_type": "display_data"
    },
    {
     "data": {
      "text/markdown": [
       "`find_optimal_c`($I=2^{ 25.0 }$, $k=300$, $k_3=60$, $n=2^{ 35.0 }$, $p=280.0/n$, $\\epsilon=2^{ -30.0 } $)`.get_work`($c=0.5278640450004206$): work=2.47e+07"
      ],
      "text/plain": [
       "<IPython.core.display.Markdown object>"
      ]
     },
     "metadata": {},
     "output_type": "display_data"
    },
    {
     "data": {
      "text/markdown": [
       "`find_optimal_c`($I=2^{ 25.0 }$, $k=300$, $k_3=60$, $n=2^{ 35.0 }$, $p=280.0/n$, $\\epsilon=2^{ -30.0 } $)`.get_work`($c=0.5835921350012618$): work=1.62e+06"
      ],
      "text/plain": [
       "<IPython.core.display.Markdown object>"
      ]
     },
     "metadata": {},
     "output_type": "display_data"
    },
    {
     "data": {
      "text/markdown": [
       "`find_optimal_c`($I=2^{ 25.0 }$, $k=300$, $k_3=60$, $n=2^{ 35.0 }$, $p=280.0/n$, $\\epsilon=2^{ -30.0 } $)`.get_work`($c=0.6095634481510521$): work=3.90e+05"
      ],
      "text/plain": [
       "<IPython.core.display.Markdown object>"
      ]
     },
     "metadata": {},
     "output_type": "display_data"
    },
    {
     "data": {
      "text/markdown": [
       "`find_optimal_c`($I=2^{ 25.0 }$, $k=300$, $k_3=60$, $n=2^{ 35.0 }$, $p=280.0/n$, $\\epsilon=2^{ -30.0 } $)`.get_work`($c=0.6039777191873902$): work=5.25e+05"
      ],
      "text/plain": [
       "<IPython.core.display.Markdown object>"
      ]
     },
     "metadata": {},
     "output_type": "display_data"
    },
    {
     "data": {
      "text/markdown": [
       "`find_optimal_c`($I=2^{ 25.0 }$, $k=300$, $k_3=60$, $n=2^{ 35.0 }$, $p=280.0/n$, $\\epsilon=2^{ -30.0 } $)`.get_work`($c=0.5961911189088115$): work=7.59e+05"
      ],
      "text/plain": [
       "<IPython.core.display.Markdown object>"
      ]
     },
     "metadata": {},
     "output_type": "display_data"
    },
    {
     "data": {
      "text/markdown": [
       "`find_optimal_c`($I=2^{ 25.0 }$, $k=300$, $k_3=60$, $n=2^{ 35.0 }$, $p=280.0/n$, $\\epsilon=2^{ -30.0 } $)`.get_work`($c=0.59625808011644$): work=7.57e+05"
      ],
      "text/plain": [
       "<IPython.core.display.Markdown object>"
      ]
     },
     "metadata": {},
     "output_type": "display_data"
    },
    {
     "data": {
      "text/markdown": [
       "`find_optimal_c`($I=2^{ 25.0 }$, $k=300$, $k_3=60$, $n=2^{ 35.0 }$, $p=280.0/n$, $\\epsilon=2^{ -30.0 } $)`.get_work`($c=0.5978545241134233$): work=7.05e+05"
      ],
      "text/plain": [
       "<IPython.core.display.Markdown object>"
      ]
     },
     "metadata": {},
     "output_type": "display_data"
    },
    {
     "data": {
      "text/markdown": [
       "`find_optimal_c`($I=2^{ 25.0 }$, $k=300$, $k_3=60$, $n=2^{ 35.0 }$, $p=280.0/n$, $\\epsilon=2^{ -30.0 } $)`.get_work`($c=0.5968678674621519$): work=7.36e+05"
      ],
      "text/plain": [
       "<IPython.core.display.Markdown object>"
      ]
     },
     "metadata": {},
     "output_type": "display_data"
    },
    {
     "data": {
      "text/markdown": [
       "`find_optimal_c`($I=2^{ 25.0 }$, $k=300$, $k_3=60$, $n=2^{ 35.0 }$, $p=280.0/n$, $\\epsilon=2^{ -30.0 } $)`.get_work`($c=0.5967936202504995$): work=7.38e+05"
      ],
      "text/plain": [
       "<IPython.core.display.Markdown object>"
      ]
     },
     "metadata": {},
     "output_type": "display_data"
    },
    {
     "data": {
      "text/markdown": [
       "`find_optimal_c`($I=2^{ 25.0 }$, $k=300$, $k_3=60$, $n=2^{ 35.0 }$, $p=280.0/n$, $\\epsilon=2^{ -30.0 } $)`.get_work`($c=0.5967998796217885$): work=7.38e+05"
      ],
      "text/plain": [
       "<IPython.core.display.Markdown object>"
      ]
     },
     "metadata": {},
     "output_type": "display_data"
    },
    {
     "data": {
      "text/markdown": [
       "`find_optimal_c`($I=2^{ 25.0 }$, $k=300$, $k_3=60$, $n=2^{ 35.0 }$, $p=280.0/n$, $\\epsilon=2^{ -30.0 } $)`.get_work`($c=0.5967991107712205$): work=7.38e+05"
      ],
      "text/plain": [
       "<IPython.core.display.Markdown object>"
      ]
     },
     "metadata": {},
     "output_type": "display_data"
    },
    {
     "data": {
      "text/markdown": [
       "`find_optimal_c`($I=2^{ 25.0 }$, $k=300$, $k_3=60$, $n=2^{ 35.0 }$, $p=280.0/n$, $\\epsilon=2^{ -30.0 } $)`.get_work`($c=0.5967989886846924$): work=7.38e+05"
      ],
      "text/plain": [
       "<IPython.core.display.Markdown object>"
      ]
     },
     "metadata": {},
     "output_type": "display_data"
    },
    {
     "data": {
      "text/markdown": [
       "`find_optimal_c`($I=2^{ 25.0 }$, $k=300$, $k_3=60$, $n=2^{ 35.0 }$, $p=280.0/n$, $\\epsilon=2^{ -30.0 } $)`.get_work`($c=0.5967992207243072$): work=7.38e+05"
      ],
      "text/plain": [
       "<IPython.core.display.Markdown object>"
      ]
     },
     "metadata": {},
     "output_type": "display_data"
    },
    {
     "data": {
      "text/markdown": [
       "`find_optimal_c`($I=2^{ 25.0 }$, $k=300$, $k_3=60$, $n=2^{ 35.0 }$, $p=280.0/n$, $\\epsilon=2^{ -30.0 } $)`.get_work`($c=0.5967991801330392$): work=7.38e+05"
      ],
      "text/plain": [
       "<IPython.core.display.Markdown object>"
      ]
     },
     "metadata": {},
     "output_type": "display_data"
    },
    {
     "data": {
      "text/markdown": [
       "`find_optimal_c`($I=2^{ 25.0 }$, $k=300$, $k_3=60$, $n=2^{ 35.0 }$, $p=280.0/n$, $\\epsilon=2^{ -30.0 } $)`.get_work`($c=0.5967992295762702$): work=7.38e+05"
      ],
      "text/plain": [
       "<IPython.core.display.Markdown object>"
      ]
     },
     "metadata": {},
     "output_type": "display_data"
    },
    {
     "data": {
      "text/markdown": [
       "`find_optimal_c`($I=2^{ 25.0 }$, $k=300$, $k_3=60$, $n=2^{ 35.0 }$, $p=280.0/n$, $\\epsilon=2^{ -30.0 } $)`.get_work`($c=0.5967992052198225$): work=7.38e+05"
      ],
      "text/plain": [
       "<IPython.core.display.Markdown object>"
      ]
     },
     "metadata": {},
     "output_type": "display_data"
    },
    {
     "data": {
      "text/markdown": [
       "For adversary, optimal $c=0.597$; the adversarial advantage is $\\frac{ I }{c\\dot I+W(c)} = \\frac{1}{c=0.597+\\frac{ W(c)=2.08e+07 } {I} } = 0.8226393712837313$"
      ],
      "text/plain": [
       "<IPython.core.display.Markdown object>"
      ]
     },
     "metadata": {},
     "output_type": "display_data"
    }
   ],
   "source": [
    "# Fraction of honest work for w2 PoW, and total work with these parameters (for one unit of space)\n",
    "w2_frac, work = find_optimal_w2_frac(honest_nonces, c, k, k3, n, p, eps)\n",
    "\n",
    "w1, w2 = w1_w2_from_w2_frac(w2_frac, honest_nonces)\n",
    "copt, totalwork = find_optimal_c(I, w1, w2, k, k3, q, n, eps, disp=1)\n",
    "dm(rf\"For adversary, optimal $c={copt:.3f}$; the adversarial advantage is $\\frac{{ I }}{{c\\dot I+W(c)}} = \\frac{{1}}{{c={copt:.3f}+\\frac{{ W(c)={totalwork:.2e} }} {{I}} }} = {1/(copt+(totalwork/I))}$\")\n"
   ]
  },
  {
   "cell_type": "code",
   "execution_count": 108,
   "id": "b1acf0a1-61e2-43fc-8f65-40ee75247ddb",
   "metadata": {
    "tags": []
   },
   "outputs": [
    {
     "data": {
      "text/markdown": [
       "\n",
       "For $I=2^{ 25.0 }$, the expected number of $W_1$ hashes (for a single PoW) is 2533, and of $W_2$ hashes is 42740\n",
       "\n",
       "If the honest init time for an honest user with one unit of storage is 24 hours, then the PoW time for this user will be 2.57e-03 seconds in expectation.\n",
       "\n",
       "Comparing the 64-bit hash output to the thresholds `w1_thresh=0x19dfd1233fb3f3` and `w2_thresh=0x1888a03b4bb20` will give the desired outcome.\n"
      ],
      "text/plain": [
       "<IPython.core.display.Markdown object>"
      ]
     },
     "metadata": {},
     "output_type": "display_data"
    }
   ],
   "source": [
    "seconds_per_honest_init = hours_per_honest_init*60*60\n",
    "\n",
    "# Total PoW work for honest proof (in seconds)\n",
    "seconds_per_honest_proof = seconds_per_honest_init / I\n",
    "\n",
    "total_scrypt_iterations_per_init = scrypt_iterations_per_init_hash * n  # scrypt iterations for initializing `units` space units\n",
    "expected_scrypt_iterations_per_honest_pow = total_scrypt_iterations_per_init / I\n",
    "expected_scrypt_hashes_per_honest_pow = expected_scrypt_iterations_per_honest_pow / scrypt_iterations_per_pow_hash\n",
    "\n",
    "# honest_nonces * W1+ W2 is the expected honest work, which should equal expected_scrypt_hashes_per_honest_pow\n",
    "scaled_w1, scaled_w2 = w1 * expected_scrypt_hashes_per_honest_pow, w2 * expected_scrypt_hashes_per_honest_pow\n",
    "\n",
    "#  Probability that a single PoW hash is successful\n",
    "w1_prob, w2_prob = 1/scaled_w1, 1/scaled_w2\n",
    "\n",
    "w1_thresh = floor(w1_prob * 2**64)\n",
    "w2_thresh = floor(w2_prob * 2**64)\n",
    "\n",
    "\n",
    "dm(rf\"\"\"\n",
    "For $I=2^{{ {log(I,2)} }}$, the expected number of $W_1$ hashes (for a single PoW) is {round(scaled_w1)}, and of $W_2$ hashes is {round(scaled_w2)}\n",
    "\n",
    "If the honest init time for an honest user with one unit of storage is {hours_per_honest_init} hours, then the PoW time for this user will be {seconds_per_honest_proof:.2e} seconds in expectation.\n",
    "\n",
    "Comparing the 64-bit hash output to the thresholds `w1_thresh={hex(w1_thresh)}` and `w2_thresh={hex(w2_thresh)}` will give the desired outcome.\n",
    "\"\"\")"
   ]
  },
  {
   "cell_type": "code",
   "execution_count": 109,
   "id": "4437e171-440b-42d5-acb1-97805aa89da9",
   "metadata": {
    "tags": []
   },
   "outputs": [
    {
     "data": {
      "text/markdown": [
       "\n",
       "For 100 units of space, the expected number of $W_1$ hashes (for a single PoW) is 253286, and of $W_2$ hashes is 4274024\n",
       "\n",
       "If the honest init time for an honest user with 100 units of storage is 2400 hours, then the PoW time for this user will be 2.57e-01 seconds in expectation.\n",
       "\n",
       "Comparing the 64-bit hash output to the thresholds `w1_thresh=0x423cf8ac2833` and `w2_thresh=0x3ece66fe326` will give the desired outcome.\n"
      ],
      "text/plain": [
       "<IPython.core.display.Markdown object>"
      ]
     },
     "metadata": {},
     "output_type": "display_data"
    }
   ],
   "source": [
    "# For more space units:\n",
    "units = 100\n",
    "\n",
    "unit_w1_thresh = floor(w1_prob * 2**64 / units)\n",
    "unit_w2_thresh = floor(w2_prob * 2**64 / units)\n",
    "\n",
    "dm(rf\"\"\"\n",
    "For {units} units of space, the expected number of $W_1$ hashes (for a single PoW) is {round(scaled_w1*units)}, and of $W_2$ hashes is {round(scaled_w2*units)}\n",
    "\n",
    "If the honest init time for an honest user with {units} units of storage is {hours_per_honest_init*units} hours, then the PoW time for this user will be {seconds_per_honest_proof*units:.2e} seconds in expectation.\n",
    "\n",
    "Comparing the 64-bit hash output to the thresholds `w1_thresh={hex(unit_w1_thresh)}` and `w2_thresh={hex(unit_w2_thresh)}` will give the desired outcome.\n",
    "\"\"\")"
   ]
  }
 ],
 "metadata": {
  "kernelspec": {
   "display_name": "Python 3 (ipykernel)",
   "language": "python",
   "name": "python3"
  },
  "language_info": {
   "codemirror_mode": {
    "name": "ipython",
    "version": 3
   },
   "file_extension": ".py",
   "mimetype": "text/x-python",
   "name": "python",
   "nbconvert_exporter": "python",
   "pygments_lexer": "ipython3",
   "version": "3.10.6"
  }
 },
 "nbformat": 4,
 "nbformat_minor": 5
}
