{
 "cells": [
  {
   "cell_type": "code",
   "execution_count": 1,
   "id": "8be8cf45-f425-4186-bdcf-c15c2c321a59",
   "metadata": {},
   "outputs": [],
   "source": [
    "import math\n",
    "from math import log, floor, ceil, sqrt"
   ]
  },
  {
   "cell_type": "code",
   "execution_count": 2,
   "id": "f439196b-7ed2-4ba8-ae69-8e210c0890ed",
   "metadata": {},
   "outputs": [],
   "source": [
    "################################## CONSTANTS ###############################\n",
    "\n",
    "# time to compute one AES hash (in nanoseconds)\n",
    "aes_time = 10\n",
    "gigabyte = 2 ** 30"
   ]
  },
  {
   "cell_type": "code",
   "execution_count": 3,
   "id": "a27570f0-98cb-43c1-8fb6-4ad8868fe609",
   "metadata": {},
   "outputs": [],
   "source": [
    "# Calculates expected time of the main loop of PoST proof generation.\n",
    "# The main loop is the sequential pass over the whole storage of the miner.\n",
    "# \n",
    "# During the main loop the storage is processed as 16-bytes long labels. For every label we generate\n",
    "# a pseudo-random binary sequence with a series of AES invocations. Every AES invocation produces 128 bits\n",
    "# of output. This output is split into elements of equal binary size, which are the \"eager\" parts of the\n",
    "# pseudorandom values we produce.\n",
    "#\n",
    "# Formally, we always compare 64-bit value (obtained via some pseudorandom generation) with a 64-bit threshold.\n",
    "# But implementation-wise this comparison is optimized by computing only some number of most significant bits\n",
    "# of this value first (the \"eager\" part) and the remaining bits only if needed (the \"lazy\" part).\n",
    "#\n",
    "# During this loop we attempt to find a specified number of \"good\" <label,nonce> pairs, where this pair is good\n",
    "# if for a corresponding value v this formula holds:  v < threshold.\n",
    "#\n",
    "# The detailed description of the algorithm can be found here (ADD THE LINK).\n",
    "#\n",
    "# storage_size: int - size of miner's storage (in GiB)\n",
    "# number_of_nonces: int - number of nonces that we want to calculate during the single-pass proof generation\n",
    "# number_of_segments: int - we split the 128 bits of AES output to this number of segments\n",
    "#                           caution: we require that 128 % number_of_segments == 0\n",
    "def expected_time_of_sequential_pass(storage_size, number_of_nonces, number_of_segments):\n",
    "    # ensuring that the splitting of AES output to segments is nice\n",
    "    assert 128 % number_of_segments == 0\n",
    "\n",
    "    # number of labels (every label is 16-bytes long)\n",
    "    N = storage_size * gigabyte // 16\n",
    "\n",
    "    # size of the unsigned integer values we will get after splitting the AES output\n",
    "    segment_size_in_bits = 128 // number_of_segments\n",
    "    \n",
    "    # how many times we have to call AES per every label so to cover required number of nonces\n",
    "    # this is just counting the \"main\" branch\n",
    "    aes_calls_per_label = ceil(number_of_nonces / number_of_segments)\n",
    "    \n",
    "    # number of AES calls for the 'eager' part of values\n",
    "    eager_part_calculations = N * aes_calls_per_label\n",
    "    \n",
    "    # average number of AES calls needed for the \"lazy\" part of values\n",
    "    # Caution: only if the 'eager' part is EQUAL to some value, the lazy part must be calculated\n",
    "    # hence the probability of the need to calculate the lazy part is 1 / 2 ** segment_size_in_bits.\n",
    "    # The number of times we play the eager-lazy game is exactly: N * number_of_nonces   \n",
    "    lazy_part_calculations = N * number_of_nonces // 2 ** segment_size_in_bits\n",
    "    \n",
    "    # total number of AES calls\n",
    "    aes_calls_total = eager_part_calculations + lazy_part_calculations\n",
    "    \n",
    "    return aes_calls_total * aes_time"
   ]
  },
  {
   "cell_type": "code",
   "execution_count": 4,
   "id": "85e626f7-f967-4a5f-8bf5-633664f218c1",
   "metadata": {
    "tags": []
   },
   "outputs": [],
   "source": [
    "solution_eager64 = expected_time_of_sequential_pass(256, 32, 2)\n",
    "solution_32_lazy32 = expected_time_of_sequential_pass(256, 32, 4)\n",
    "solution_16_lazy48 = expected_time_of_sequential_pass(256, 32, 8)\n",
    "solution_8_lazy56 = expected_time_of_sequential_pass(256, 32, 16)\n",
    "solution_4_lazy60 = expected_time_of_sequential_pass(256, 32, 32)"
   ]
  },
  {
   "cell_type": "code",
   "execution_count": 5,
   "id": "e0bafef7-7c37-4bce-bede-c35e954f5bee",
   "metadata": {
    "tags": []
   },
   "outputs": [
    {
     "name": "stdout",
     "output_type": "stream",
     "text": [
      "    eager 64 [sec]:  2748.77906944\n",
      "32 + lazy 32 [sec]:  1374.389536\n",
      "16 + lazy 48 [sec]:  687.27865344\n",
      " 8 + lazy 56 [sec]:  365.07222016\n",
      " 4 + lazy 60 [sec]:  515.39607552\n",
      "\n",
      "performance jump 64 -> 32:  1.9999999981373549\n",
      "performance jump 32 -> 16:  1.9997558910361026\n",
      "performance jump 16 -> 8:  1.8825827205882353\n",
      "performance jump 16 -> 8:  1.8825827205882353\n",
      "performance jump 8 -> 4:  0.7083333333333334\n"
     ]
    }
   ],
   "source": [
    "print(\"    eager 64 [sec]: \", solution_eager64 / 10 ** 9)\n",
    "print(\"32 + lazy 32 [sec]: \", solution_32_lazy32 / 10 ** 9)\n",
    "print(\"16 + lazy 48 [sec]: \", solution_16_lazy48 / 10 ** 9)\n",
    "print(\" 8 + lazy 56 [sec]: \", solution_8_lazy56 / 10 ** 9)\n",
    "print(\" 4 + lazy 60 [sec]: \" , solution_4_lazy60 / 10 ** 9)\n",
    "print()\n",
    "print(\"performance jump 64 -> 32: \", solution_eager64 / solution_32_lazy32)\n",
    "print(\"performance jump 32 -> 16: \", solution_32_lazy32 / solution_16_lazy48)\n",
    "print(\"performance jump 16 -> 8: \", solution_16_lazy48 / solution_8_lazy56)\n",
    "print(\"performance jump 16 -> 8: \", solution_16_lazy48 / solution_8_lazy56)\n",
    "print(\"performance jump 8 -> 4: \", solution_8_lazy56 / solution_4_lazy60)"
   ]
  },
  {
   "cell_type": "code",
   "execution_count": 6,
   "id": "8753044f-fb25-4007-8514-f076dea1bad4",
   "metadata": {
    "tags": []
   },
   "outputs": [
    {
     "name": "stdout",
     "output_type": "stream",
     "text": [
      "32 + lazy 32 [sec]:  858.99346\n",
      "16 + lazy 48 [sec]:  515.44850432\n",
      " 8 + lazy 56 [sec]:  357.01915648\n"
     ]
    }
   ],
   "source": [
    "solution20nonces_32_lazy32 = expected_time_of_sequential_pass(256, 20, 4)\n",
    "solution20nonces_16_lazy48 = expected_time_of_sequential_pass(256, 20, 8)\n",
    "solution20nonces_8_lazy56 = expected_time_of_sequential_pass(256, 20, 16)\n",
    "print(\"32 + lazy 32 [sec]: \", solution20nonces_32_lazy32 / 10 ** 9)\n",
    "print(\"16 + lazy 48 [sec]: \", solution20nonces_16_lazy48 / 10 ** 9)\n",
    "print(\" 8 + lazy 56 [sec]: \", solution20nonces_8_lazy56 / 10 ** 9)"
   ]
  }
 ],
 "metadata": {
  "kernelspec": {
   "display_name": "Python 3 (ipykernel)",
   "language": "python",
   "name": "python3"
  },
  "language_info": {
   "codemirror_mode": {
    "name": "ipython",
    "version": 3
   },
   "file_extension": ".py",
   "mimetype": "text/x-python",
   "name": "python",
   "nbconvert_exporter": "python",
   "pygments_lexer": "ipython3",
   "version": "3.11.2"
  }
 },
 "nbformat": 4,
 "nbformat_minor": 5
}
